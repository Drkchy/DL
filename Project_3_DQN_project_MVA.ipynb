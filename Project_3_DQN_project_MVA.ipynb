{
 "cells": [
  {
   "cell_type": "markdown",
   "metadata": {},
   "source": [
    "**You may need to install [OpenCV](https://pypi.python.org/pypi/opencv-python) and [scikit-video](http://www.scikit-video.org/stable/).**"
   ]
  },
  {
   "cell_type": "code",
   "execution_count": 1,
   "metadata": {},
   "outputs": [
    {
     "name": "stderr",
     "output_type": "stream",
     "text": [
      "Using TensorFlow backend.\n"
     ]
    }
   ],
   "source": [
    "import keras\n",
    "import numpy as np\n",
    "import io\n",
    "import base64\n",
    "from IPython.display import HTML\n",
    "import skvideo.io\n",
    "import cv2\n",
    "import json\n",
    "\n",
    "from keras.models import Sequential,model_from_json\n",
    "from keras.layers.core import Dense\n",
    "from keras.optimizers import sgd\n",
    "from keras.layers import Conv2D, MaxPooling2D, Activation, AveragePooling2D,Reshape,BatchNormalization"
   ]
  },
  {
   "cell_type": "markdown",
   "metadata": {},
   "source": [
    "# MiniProject #3: Deep Reinforcement Learning"
   ]
  },
  {
   "cell_type": "markdown",
   "metadata": {},
   "source": [
    "__Notations__: $E_p$ is the expectation under probability $p$. Please justify each of your answer and widely comment your code."
   ]
  },
  {
   "cell_type": "markdown",
   "metadata": {},
   "source": [
    "# Context"
   ]
  },
  {
   "cell_type": "markdown",
   "metadata": {},
   "source": [
    "In a reinforcement learning algorithm, we modelize each step $t$ as an action $a_t$ obtained from a state $s_t$, i.e. $\\{(a_{t},s_{t})_{t\\leq T}\\}$ having the Markov property. We consider a discount factor $\\gamma \\in [0,1]$ that ensures convergence. The goal is to find among all the policies $\\pi$, one that maximizes the expected reward:\n",
    "\n",
    "\\begin{equation*}\n",
    "R(\\pi)=\\sum_{t\\leq T}E_{p^{\\pi}}[\\gamma^t r(s_{t},a_{t})] \\> ,\n",
    "\\end{equation*}\n",
    "\n",
    "where: \n",
    "\\begin{equation*}p^{\\pi}(a_{0},a_{1},s_{1},...,a_{T},s_{T})=p(a_{0})\\prod_{t=1}^{T}\\pi(a_{t}|s_{t})p(s_{t+1}|s_{t},a_{t}) \\> .\n",
    "\\end{equation*}\n",
    "\n",
    "We note the $Q$-function:\n",
    "\n",
    "\\begin{equation*}Q^\\pi(s,a)=E_{p^{\\pi}}[\\sum_{t\\leq T}\\gamma^{t}r(s_{t},a_{t})|s_{0}=s,a_{0}=a] \\> .\n",
    "\\end{equation*}\n",
    "\n",
    "Thus, the optimal Q function is:\n",
    "\\begin{equation*}\n",
    "Q^*(s,a)=\\max_{\\pi}Q^\\pi(s,a) \\> .\n",
    "\\end{equation*}\n",
    "\n",
    "In this project, we will apply the deep reinforcement learning techniques to a simple game: an agent will have to learn from scratch a policy that will permit it maximizing a reward."
   ]
  },
  {
   "cell_type": "markdown",
   "metadata": {},
   "source": [
    "## The environment, the agent and the game"
   ]
  },
  {
   "cell_type": "markdown",
   "metadata": {},
   "source": [
    "### The environment"
   ]
  },
  {
   "cell_type": "markdown",
   "metadata": {},
   "source": [
    "```Environment``` is an abstract class that represents the states, rewards, and actions to obtain the new state."
   ]
  },
  {
   "cell_type": "code",
   "execution_count": 2,
   "metadata": {
    "collapsed": true
   },
   "outputs": [],
   "source": [
    "class Environment(object):\n",
    "    def __init__(self):\n",
    "        pass\n",
    "\n",
    "    def act(self, act):\n",
    "        \"\"\"\n",
    "        One can act on the environment and obtain its reaction:\n",
    "        - the new state\n",
    "        - the reward of the new state\n",
    "        - should we continue the game?\n",
    "\n",
    "        :return: state, reward, game_over\n",
    "        \"\"\"\n",
    "        pass\n",
    "\n",
    "\n",
    "    def reset(self):\n",
    "        \"\"\"\n",
    "        Reinitialize the environment to a random state and returns\n",
    "        the original state\n",
    "\n",
    "        :return: state\n",
    "        \"\"\"\n",
    "        pass\n",
    "    \n",
    "    def draw(self):\n",
    "        \"\"\"\n",
    "        Visualize in the console or graphically the current state\n",
    "        \"\"\"\n",
    "        pass"
   ]
  },
  {
   "cell_type": "markdown",
   "metadata": {},
   "source": [
    "The method ```act``` allows to act on the environment at a given state $s_t$ (stored internally), via action $a_t$. The method will return the new state $s_{t+1}$, the reward $r(s_{t},a_{t})$ and determines if $t\\leq T$ (*game_over*).\n",
    "\n",
    "The method ```reset``` simply reinitializes the environment to a random state $s_0$.\n",
    "\n",
    "The method ```draw``` displays the current state $s_t$ (this is useful to check the behavior of the Agent).\n",
    "\n",
    "We modelize $s_t$ as a tensor, while $a_t$ is an integer."
   ]
  },
  {
   "cell_type": "markdown",
   "metadata": {},
   "source": [
    "### The Agent"
   ]
  },
  {
   "cell_type": "markdown",
   "metadata": {},
   "source": [
    "The goal of the ```Agent``` is to interact with the ```Environment``` by proposing actions $a_t$ obtained from a given state $s_t$ to attempt to maximize its __reward__ $r(s_t,a_t)$. We propose the following abstract class:"
   ]
  },
  {
   "cell_type": "code",
   "execution_count": 3,
   "metadata": {
    "collapsed": true
   },
   "outputs": [],
   "source": [
    "class Agent(object):\n",
    "    def __init__(self, epsilon=0.1, n_action=4):\n",
    "        self.epsilon = epsilon\n",
    "        self.n_action = n_action\n",
    "    \n",
    "    def set_epsilon(self,e):\n",
    "        self.epsilon = e\n",
    "\n",
    "    def act(self,s,train=True):\n",
    "        \"\"\" This function should return the next action to do:\n",
    "        an integer between 0 and 4 (not included) with a random exploration of epsilon\"\"\"\n",
    "        if train:\n",
    "            if np.random.rand() <= self.epsilon:\n",
    "                a = np.random.randint(0, self.n_action, size=1)[0]\n",
    "            else:\n",
    "                a = self.learned_act(s)\n",
    "        else: # in some cases, this can improve the performance.. remove it if poor performances\n",
    "            a = self.learned_act(s)\n",
    "\n",
    "        return a\n",
    "\n",
    "    def learned_act(self,s):\n",
    "        \"\"\" Act via the policy of the agent, from a given state s\n",
    "        it proposes an action a\"\"\"\n",
    "        pass\n",
    "\n",
    "    def reinforce(self, s, n_s, a, r, game_over_):\n",
    "        \"\"\" This function is the core of the learning algorithm. \n",
    "        It takes as an input the current state s_, the next state n_s_\n",
    "        the action a_ used to move from s_ to n_s_ and the reward r_.\n",
    "        \n",
    "        Its goal is to learn a policy.\n",
    "        \"\"\"\n",
    "        pass\n",
    "\n",
    "    def save(self):\n",
    "        \"\"\" This function returns basic stats if applicable: the\n",
    "        loss and/or the model\"\"\"\n",
    "        pass\n",
    "\n",
    "    def load(self):\n",
    "        \"\"\" This function allows to restore a model\"\"\"\n",
    "        pass"
   ]
  },
  {
   "cell_type": "markdown",
   "metadata": {},
   "source": [
    "***\n",
    "__Question 1__:\n",
    "Explain the function act. Why is ```epsilon``` essential?"
   ]
  },
  {
   "cell_type": "markdown",
   "metadata": {},
   "source": [
    "Answer: \n",
    "\n",
    "Function act: at each episode of a game, the environment class takes the output of act function: based on the action taken, the environment changes and the games evolves. The act function evaluate what is the best action to take based on previous experiences and rewards. Sometimes, it returns a random action to explore the environment.\n",
    "\n",
    "Epsilon: Epsilon is the exploration rate. To be able to learn from previous experience, the agent has to start with random action. This rate can be small or equal to zero when testing because we may want to optimise exploitation. "
   ]
  },
  {
   "cell_type": "markdown",
   "metadata": {},
   "source": [
    "***\n",
    "### The Game"
   ]
  },
  {
   "cell_type": "markdown",
   "metadata": {},
   "source": [
    "The ```Agent``` and the ```Environment``` work in an interlaced way as in the following (take some time to understand this code as it is the core of the project)\n",
    "\n",
    "```python\n",
    "\n",
    "epoch = 300\n",
    "env = Environment()\n",
    "agent = Agent()\n",
    "\n",
    "\n",
    "# Number of won games\n",
    "score = 0\n",
    "loss = 0\n",
    "\n",
    "\n",
    "for e in range(epoch):\n",
    "    # At each epoch, we restart to a fresh game and get the initial state\n",
    "    state = env.reset()\n",
    "    # This assumes that the games will end\n",
    "    game_over = False\n",
    "\n",
    "    win = 0\n",
    "    lose = 0\n",
    "    \n",
    "    while not game_over:\n",
    "        # The agent performs an action\n",
    "        action = agent.act(state)\n",
    "\n",
    "        # Apply an action to the environment, get the next state, the reward\n",
    "        # and if the games end\n",
    "        prev_state = state\n",
    "        state, reward, game_over = env.act(action)\n",
    "\n",
    "        # Update the counters\n",
    "        if reward > 0:\n",
    "            win = win + reward\n",
    "        if reward < 0:\n",
    "            lose = lose -reward\n",
    "\n",
    "        # Apply the reinforcement strategy\n",
    "        loss = agent.reinforce(prev_state, state,  action, reward, game_over)\n",
    "\n",
    "    # Save as a mp4\n",
    "    if e % 10 == 0:\n",
    "        env.draw(e)\n",
    "\n",
    "    # Update stats\n",
    "    score += win-lose\n",
    "\n",
    "    print(\"Epoch {:03d}/{:03d} | Loss {:.4f} | Win/lose count {}/{} ({})\"\n",
    "          .format(e, epoch, loss, win, lose, win-lose))\n",
    "    agent.save()\n",
    "```"
   ]
  },
  {
   "cell_type": "markdown",
   "metadata": {},
   "source": [
    "# The game, *eat cheese*"
   ]
  },
  {
   "cell_type": "markdown",
   "metadata": {},
   "source": [
    "A rat runs on an island and tries to eat as much as possible. The island is subdivided into $N\\times N$ cells, in which there are cheese (+0.5) and poisonous cells (-1). The rat has a visibility of 2 cells (thus it can see $5^2$ cells). The rat is given a time $T$ to accumulate as much food as possible. It can perform 4 actions: going up, down, left, right. \n",
    "\n",
    "The goal is to code an agent to solve this task that will learn by trial and error. We propose the following environment:"
   ]
  },
  {
   "cell_type": "code",
   "execution_count": 4,
   "metadata": {
    "collapsed": true
   },
   "outputs": [],
   "source": [
    "class Environment(object):\n",
    "    def __init__(self, grid_size=10, max_time=500, temperature=0.1):\n",
    "        grid_size = grid_size+4\n",
    "        self.grid_size = grid_size\n",
    "        self.max_time = max_time\n",
    "        self.temperature = temperature\n",
    "\n",
    "        #board on which one plays\n",
    "        self.board = np.zeros((grid_size,grid_size))\n",
    "        self.position = np.zeros((grid_size,grid_size))\n",
    "\n",
    "        # coordinate of the cat\n",
    "        self.x = 0\n",
    "        self.y = 1\n",
    "\n",
    "        # self time\n",
    "        self.t = 0\n",
    "\n",
    "        self.scale=16\n",
    "\n",
    "        self.to_draw = np.zeros((max_time+2, grid_size*self.scale, grid_size*self.scale, 3))\n",
    "\n",
    "\n",
    "    def draw(self,e):\n",
    "        skvideo.io.vwrite(str(e) + '.mp4', self.to_draw)\n",
    "\n",
    "    def get_frame(self,t):\n",
    "        b = np.zeros((self.grid_size,self.grid_size,3))+128\n",
    "        b[self.board>0,0] = 256\n",
    "        b[self.board < 0, 2] = 256\n",
    "        b[self.x,self.y,:]=256\n",
    "        b[-2:,:,:]=0\n",
    "        b[:,-2:,:]=0\n",
    "        b[:2,:,:]=0\n",
    "        b[:,:2,:]=0\n",
    "        \n",
    "        b =  cv2.resize(b, None, fx=self.scale, fy=self.scale, interpolation=cv2.INTER_NEAREST)\n",
    "\n",
    "        self.to_draw[t,:,:,:]=b\n",
    "\n",
    "\n",
    "    def act(self, action):\n",
    "        \"\"\"This function returns the new state, reward and decides if the\n",
    "        game ends.\"\"\"\n",
    "\n",
    "        self.get_frame(int(self.t))\n",
    "\n",
    "        self.position = np.zeros((self.grid_size, self.grid_size))\n",
    "\n",
    "        self.position[0:2,:]= -1\n",
    "        self.position[:,0:2] = -1\n",
    "        self.position[-2:, :] = -1\n",
    "        #self.position[-2:, :] = -1\n",
    "        self.position[:,-2:] = -1\n",
    "\n",
    "        self.position[self.x, self.y] = 1\n",
    "        if action == 0: \n",
    "            if self.x == self.grid_size-3:\n",
    "                self.x = self.x-1               # if  edge, go UP \n",
    "            else:\n",
    "                self.x = self.x + 1             # go DOWN\n",
    "        elif action == 1:\n",
    "            if self.x == 2:\n",
    "                self.x = self.x+1               # if  edge, go DOWN\n",
    "            else:\n",
    "                self.x = self.x-1               # go UP \n",
    "        elif action == 2:\n",
    "            if self.y == self.grid_size - 3: \n",
    "                self.y = self.y - 1             # if  edge, go LEFT\n",
    "            else:\n",
    "                self.y = self.y + 1             # go RIGHT\n",
    "        elif action == 3:\n",
    "            if self.y == 2:\n",
    "                self.y = self.y + 1             # if  edge, go RIGHT\n",
    "            else:\n",
    "                self.y = self.y - 1             # go LEFT\n",
    "        else:\n",
    "            RuntimeError('Error: action not recognized')\n",
    "\n",
    "        self.t = self.t + 1\n",
    "        reward = self.board[self.x, self.y]\n",
    "        self.board[self.x, self.y] = 0\n",
    "        game_over = self.t > self.max_time\n",
    "        state = np.concatenate((self.board.reshape(self.grid_size, self.grid_size,1),\n",
    "                        self.position.reshape(self.grid_size, self.grid_size,1)),axis=2)\n",
    "        state = state[self.x-2:self.x+3,self.y-2:self.y+3,:]\n",
    "\n",
    "        return state, reward, game_over\n",
    "\n",
    "    def reset(self):\n",
    "        \"\"\"This function resets the game and returns the initial state\"\"\"\n",
    "\n",
    "        self.x = np.random.randint(3, self.grid_size-3, size=1)[0]\n",
    "        self.y = np.random.randint(3, self.grid_size-3, size=1)[0]\n",
    "\n",
    "\n",
    "        bonus = 0.5*np.random.binomial(1,self.temperature,size=self.grid_size**2)\n",
    "        bonus = bonus.reshape(self.grid_size,self.grid_size)\n",
    "\n",
    "        malus = -1.0*np.random.binomial(1,self.temperature,size=self.grid_size**2)\n",
    "        malus = malus.reshape(self.grid_size, self.grid_size)\n",
    "\n",
    "        self.to_draw = np.zeros((self.max_time+2, self.grid_size*self.scale, self.grid_size*self.scale, 3))\n",
    "\n",
    "\n",
    "        malus[bonus>0]=0\n",
    "\n",
    "        self.board = bonus + malus\n",
    "\n",
    "        self.position = np.zeros((self.grid_size, self.grid_size))\n",
    "        self.position[0:2,:]= -1\n",
    "        self.position[:,0:2] = -1\n",
    "        self.position[-2:, :] = -1\n",
    "        #self.position[-2:, :] = -1\n",
    "        self.position[:,-2:] = -1\n",
    "        self.board[self.x,self.y] = 0\n",
    "        self.t = 0\n",
    "\n",
    "        state = np.concatenate((\n",
    "                               self.board.reshape(self.grid_size, self.grid_size,1),\n",
    "                        self.position.reshape(self.grid_size, self.grid_size,1)),axis=2)\n",
    "\n",
    "        state = state[self.x - 2:self.x + 3, self.y - 2:self.y + 3, :]\n",
    "        return state"
   ]
  },
  {
   "cell_type": "markdown",
   "metadata": {},
   "source": [
    "The following elements are important because they correspond to the hyper parameters for this project:"
   ]
  },
  {
   "cell_type": "code",
   "execution_count": 5,
   "metadata": {
    "collapsed": true
   },
   "outputs": [],
   "source": [
    "# parameters\n",
    "size = 13\n",
    "T= 200\n",
    "temperature = 0.3\n",
    "epochs_train = 10 # set small when debugging\n",
    "epochs_test = 5 # set small when debugging\n",
    "\n",
    "# display videos\n",
    "def display_videos(name):\n",
    "    video = io.open(name, 'r+b').read()\n",
    "    encoded = base64.b64encode(video)\n",
    "    return '''<video alt=\"test\" controls>\n",
    "                <source src=\"data:video/mp4;base64,{0}\" type=\"video/mp4\" />\n",
    "             </video>'''.format(encoded.decode('ascii'))"
   ]
  },
  {
   "cell_type": "markdown",
   "metadata": {},
   "source": [
    "__Question 2__ Explain the use of the arrays ```position``` and ```board```."
   ]
  },
  {
   "cell_type": "markdown",
   "metadata": {},
   "source": [
    "Answer:\n",
    "- 'Position' array gives the position (x,y) of the agent on the grid, \n",
    "- 'board' array gives all the possible positions on the board."
   ]
  },
  {
   "cell_type": "markdown",
   "metadata": {},
   "source": [
    "## Random Agent"
   ]
  },
  {
   "cell_type": "markdown",
   "metadata": {},
   "source": [
    "***\n",
    "__Question 3__ Implement a random Agent (only ```learned_act``` needs to be implemented):"
   ]
  },
  {
   "cell_type": "code",
   "execution_count": 6,
   "metadata": {
    "collapsed": true
   },
   "outputs": [],
   "source": [
    "import random\n",
    "\n",
    "class RandomAgent(Agent):\n",
    "    def __init__(self):\n",
    "        super(RandomAgent, self).__init__()\n",
    "        \n",
    "        \n",
    "        pass\n",
    "\n",
    "    def learned_act(self, s):\n",
    "        return random.randint(0,3)"
   ]
  },
  {
   "cell_type": "markdown",
   "metadata": {},
   "source": [
    "***\n",
    "***\n",
    "__Question 4__ Visualize the game moves. You need to fill in the following function for the evaluation:"
   ]
  },
  {
   "cell_type": "code",
   "execution_count": 7,
   "metadata": {
    "collapsed": true
   },
   "outputs": [],
   "source": [
    "def test(agent,env,epochs,prefix=''):\n",
    "    # Number of won games\n",
    "    score = 0\n",
    "        \n",
    "    for e in range(epochs):\n",
    "\n",
    "        # At each epoch, we restart to a fresh game and get the initial state\n",
    "        state = env.reset()\n",
    "        # This assumes that the games will end\n",
    "        game_over = False\n",
    "\n",
    "        win = 0\n",
    "        lose = 0\n",
    "\n",
    "        while not game_over:\n",
    "            # The agent performs an action\n",
    "            action = agent.act(state)\n",
    "\n",
    "            # Apply an action to the environment, get the next state, the reward\n",
    "            # and if the games end\n",
    "            prev_state = state\n",
    "            state, reward, game_over = env.act(action)\n",
    "\n",
    "            # Update the counters\n",
    "            if reward > 0:\n",
    "                win = win + reward\n",
    "            if reward < 0:\n",
    "                lose = lose -reward\n",
    "\n",
    "            # Apply the reinforcement strategy\n",
    "            loss = agent.reinforce(prev_state, state,  action, reward, game_over)\n",
    "\n",
    "            \n",
    "        # Save as a mp4\n",
    "        env.draw(prefix+str(e))\n",
    "\n",
    "        # Update stats\n",
    "        score = score + win-lose\n",
    "\n",
    "        print(\"Win/lose count {}/{}. Average score ({})\"\n",
    "              .format(win, lose, score/(1+e)))\n",
    "    print('Final score: '+str(score/epochs))"
   ]
  },
  {
   "cell_type": "code",
   "execution_count": 8,
   "metadata": {},
   "outputs": [
    {
     "name": "stdout",
     "output_type": "stream",
     "text": [
      "Win/lose count 8.5/9.0. Average score (-0.5)\n",
      "Win/lose count 11.5/12.0. Average score (-0.5)\n",
      "Win/lose count 9.5/25.0. Average score (-5.5)\n",
      "Win/lose count 7.0/14.0. Average score (-5.875)\n",
      "Win/lose count 10.0/12.0. Average score (-5.1)\n",
      "Final score: -5.1\n"
     ]
    },
    {
     "data": {
      "text/html": [
       "<video alt=\"test\" controls>\n",
       "                <source src=\"data:video/mp4;base64,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\" type=\"video/mp4\" />\n",
       "             </video>"
      ],
      "text/plain": [
       "<IPython.core.display.HTML object>"
      ]
     },
     "execution_count": 8,
     "metadata": {},
     "output_type": "execute_result"
    }
   ],
   "source": [
    "# Initialize the game\n",
    "env = Environment(grid_size=size, max_time=T,temperature=temperature)\n",
    "\n",
    "# Initialize the agent!\n",
    "agent = RandomAgent()\n",
    "\n",
    "test(agent,env,epochs_test,prefix='random')\n",
    "HTML(display_videos('random0.mp4'))"
   ]
  },
  {
   "cell_type": "markdown",
   "metadata": {},
   "source": [
    "***\n",
    "## DQN"
   ]
  },
  {
   "cell_type": "markdown",
   "metadata": {},
   "source": [
    "Let us assume here that $T=\\infty$.\n",
    "\n",
    "***\n",
    "__Question 5__ Let $\\pi$ be a policy, show that:\n",
    "\n",
    "\\begin{equation*}\n",
    "Q^{\\pi}(s,a)=E_{(s',a')\\sim p(.|s,a)}[r(s,a)+\\gamma Q^{\\pi}(s',a')]\n",
    "\\end{equation*}\n",
    "\n",
    "Then, show that for the optimal policy $\\pi^*$ (we assume its existence), the following holds: \n",
    "\n",
    "\\begin{equation*}\n",
    "Q^{*}(s,a)=E_{s'\\sim \\pi^*(.|s,a)}[r(s,a)+\\gamma\\max_{a'}Q^{*}(s',a')].\n",
    "\\end{equation*}\n",
    "Finally, deduce that a plausible objective is:\n",
    "\n",
    "\\begin{equation*}\n",
    "\\mathcal{L}(\\theta)=E_{s' \\sim \\pi^*(.|s,a)}\\Vert r+\\gamma\\max\\max_{a'}Q(s',a',\\theta)-Q(s,a,\\theta)\\Vert^{2}.\n",
    "\\end{equation*}\n",
    "\n",
    "\n"
   ]
  },
  {
   "cell_type": "markdown",
   "metadata": {},
   "source": [
    "1) First part\n",
    "\n",
    "According to Bellman's formula, we know that:\n",
    "$$\n",
    "Q^{\\pi}(s,a)=E_{\\pi}[\\sum_{t=0}^{\\infty}\\gamma^tr_t(s_t,\\pi(s_t),s_{t+1})|s_t=s,a_t=a]\n",
    "$$\n",
    "Hence:\n",
    "\\begin{array}{ll}\n",
    "Q^{\\pi}(s_0,a_0) = E_{\\pi}[ r_0(s_0,a_0,s_1) + \\sum_{t=1}^{\\infty}\\gamma^tr_t(s_t,\\pi(s_t),s_{t+1})|s_0,a_0]\\\\\n",
    "\\\\\n",
    " = E_{\\pi}[ r_0(s_0,a_0,s_1) + \\gamma E_{\\pi}(\\sum_{t=1}^{\\infty}\\gamma^{t-1}r_t(s_t,\\pi(s_t),s_{t+1})|s_1,a_1)|s_0,a_0]\\\\\n",
    " \\\\\n",
    " = E_{\\pi}[ r_0(s_0,a_0,s_1) + _\\gamma Q^{\\pi}(s_1,a_1)]\n",
    "\\end{array} \n",
    "Thus:\n",
    "$$\n",
    "\\displaystyle Q^{\\pi}(s,a)=E_{(s',a')\\sim p(.|s,a)}[r(s,a)+\\gamma Q^{\\pi}(s',a')]\n",
    "$$\n",
    "\n",
    "\n",
    "2) Second part\n",
    "$$\n",
    "\\displaystyle  V^{\\pi}(s_0)=E[\\sum_{t=0}^{\\infty}\\gamma^tr_t(s_t,\\pi(s_t),s_{t+1}|s_0]\n",
    "$$\n",
    "and:\n",
    "$$\n",
    "\\displaystyle V^*(s_0)=\\max_{\\pi,a_0} E[\\sum_{t=0}^{\\infty}\\gamma^tr_t(s_t,\\pi(s_t),s_{t+1}|s_0]\n",
    "$$\n",
    "Thus:\n",
    "\\begin{array}{ll}\n",
    "\\displaystyle V^*(s_0)=\\max_{\\pi,a_0} E[r_0(s_0,a_0,s_1) + \\sum_{t=1}^{\\infty}\\gamma^tr_t(s_t,\\pi(s_t),s_{t+1}|s_0]\\\\\n",
    "\\\\\n",
    "\\displaystyle = \\max_{a_0} E_{s_1}[r_0(s_0,a_0,s_1) + \\gamma \\max_{\\pi} E_{s_2,s_3,...} [\\sum_{t=1}^{\\infty}\\gamma^{t-1}r_t(s_t,\\pi(s_t),s_{t+1}]|s_0]\\\\\n",
    " \\\\\n",
    "\\displaystyle = \\max_{a_0}E_{s_1}[r_0(s_0,a_0,s_1)+\\gamma V^*(s_1)]|\\\\\n",
    " \\\\\n",
    "\\displaystyle = V^*(s) = \\max E_{s'}[r(s,a,s')+\\gamma V^*(s')|s]\n",
    "\\end{array} \n",
    "We know that:$\\displaystyle V^*(s)=\\max_{a'} Q^*(s,a')$\n",
    "Thus:\n",
    "$$\n",
    "\\displaystyle V^*(s) = \\max_a E_{s'}[r(s,a,s')+\\gamma \\max_{a'} Q^*(s',a')|s]\n",
    "$$\n",
    "And we have then:\n",
    "\\begin{array}{ll}\n",
    "\\displaystyle Q^*(s,a) = E_{s'}[r(s,a,s')+\\gamma \\max_{a'} Q^*(s',a')|s]\n",
    "\\\\\n",
    "\\displaystyle = E_{s' \\sim \\pi^*(.|s,a)}[r(s,a,s')+\\gamma \\max_{a'} Q^*(s',a')]\n",
    "\\end{array} \n",
    "\n",
    "3) Third part\n",
    "Loss function formula:\n",
    "$$\n",
    "L(\\theta)=[Q^*(s,a,\\theta)-Q(s,a,\\theta)]^2\n",
    "$$\n",
    "Then, replacing $Q^*(s,a,\\theta)$, we have:\n",
    "\\begin{array}{ll}\n",
    "\\displaystyle L(\\theta) = E_{s,a}[ (E_{s'}(r(s,a,s')+\\gamma \\max_{a'} Q(s',a',\\theta))-Q(s,a,\\theta))^2]\\\\\n",
    "\\\\\n",
    " = E_{s,a}[(\\textbf{Target(critic) - actor})^2]\n",
    "\\end{array} \n"
   ]
  },
  {
   "cell_type": "markdown",
   "metadata": {},
   "source": [
    "***\n",
    "The DQN-learning algorithm relies on these derivations to train the parameters $\\theta$ of a Deep Neural Network:\n",
    "\n",
    "1. At the state $s_t$, select the action $a_t$ with best reward using $Q_t$ and store the results;\n",
    "\n",
    "2. Obtain the new state $s_{t+1}$ from the environment $p$;\n",
    "\n",
    "3. Store $(s_t,a_t,s_{t+1})$;\n",
    "\n",
    "4. Obtain $Q_{t+1}$ by minimizing  $\\mathcal{L}$ from a recovered batch from the previously stored results.\n",
    "\n",
    "***\n",
    "__Question 6__ Implement the class ```Memory``` that stores moves (in a replay buffer) via ```remember``` and provides a ```random_access``` to these. Specify a maximum memory size to avoid side effects. You can for example use a ```list()``` and set by default ```max_memory=100```."
   ]
  },
  {
   "cell_type": "code",
   "execution_count": 9,
   "metadata": {
    "collapsed": true
   },
   "outputs": [],
   "source": [
    "class Memory(object):\n",
    "    def __init__(self, max_memory=100):\n",
    "        self.max_memory = max_memory\n",
    "        self.memory = list()\n",
    "\n",
    "    def remember(self, m):\n",
    "        self.memory.append(m)\n",
    "        \n",
    "        if len(self.memory) > self.max_memory:\n",
    "            del self.memory[0]\n",
    "        \n",
    "        pass\n",
    "\n",
    "    def random_access(self):\n",
    "        mini_batch = random.choice(self.memory)\n",
    "        return mini_batch"
   ]
  },
  {
   "cell_type": "markdown",
   "metadata": {},
   "source": [
    "***\n",
    "The pipeline we will use for training is given below:"
   ]
  },
  {
   "cell_type": "code",
   "execution_count": 10,
   "metadata": {
    "collapsed": true
   },
   "outputs": [],
   "source": [
    "def train(agent,env,epoch,prefix=''):\n",
    "    # Number of won games\n",
    "    score = 0\n",
    "    loss = 0\n",
    "\n",
    "    for e in range(epoch):\n",
    "        # At each epoch, we restart to a fresh game and get the initial state\n",
    "        state = env.reset()\n",
    "        # This assumes that the games will terminate\n",
    "        game_over = False\n",
    "\n",
    "        win = 0\n",
    "        lose = 0\n",
    "\n",
    "        while not game_over:\n",
    "            # The agent performs an action\n",
    "            action = agent.act(state)\n",
    "\n",
    "            # Apply an action to the environment, get the next state, the reward\n",
    "            # and if the games end\n",
    "            prev_state = state\n",
    "            state, reward, game_over = env.act(action)\n",
    "\n",
    "            # Update the counters\n",
    "            if reward > 0:\n",
    "                win = win + reward\n",
    "            if reward < 0:\n",
    "                lose = lose -reward\n",
    "\n",
    "            # Apply the reinforcement strategy\n",
    "            loss = agent.reinforce(prev_state, state,  action, reward, game_over)\n",
    "\n",
    "        # Save as a mp4\n",
    "        if e % 10 == 0:\n",
    "            env.draw(prefix+str(e))\n",
    "\n",
    "        # Update stats\n",
    "        score += win-lose\n",
    "\n",
    "        print(\"Epoch {:03d}/{:03d} | Loss {:.4f} | Win/lose count {}/{} ({})\"\n",
    "              .format(e, epoch, loss, win, lose, win-lose))\n",
    "        agent.save(name_weights=prefix+'model.h5',name_model=prefix+'model.json')"
   ]
  },
  {
   "cell_type": "markdown",
   "metadata": {},
   "source": [
    "***\n",
    "__Question 7__ Implement the DQN training algorithm using a cascade of fully connected layers. You can use different learning rate, batch size or memory size parameters. In particular, the loss might oscillate while the player will start to win the games. You have to find a good criterium."
   ]
  },
  {
   "cell_type": "code",
   "execution_count": 11,
   "metadata": {
    "collapsed": true
   },
   "outputs": [],
   "source": [
    "class DQN(Agent):\n",
    "    def __init__(self, grid_size, epsilon = 0.1, memory_size=100, batch_size = 16, n_state=2):\n",
    "        super(DQN, self).__init__()\n",
    "\n",
    "        # Discount for Q learning\n",
    "        self.discount = 0.8\n",
    "        \n",
    "        self.grid_size = grid_size\n",
    "        \n",
    "        # number of state\n",
    "        self.n_state = n_state\n",
    "\n",
    "        # Memory\n",
    "        self.memory = Memory(memory_size)\n",
    "        \n",
    "        # Batch size when learning\n",
    "        self.batch_size = batch_size\n",
    "\n",
    "               \n",
    "\n",
    "    def learned_act(self, s):\n",
    "        \n",
    "        act = self.model.predict(np.array([s],ndmin=2)) \n",
    "        return np.argmax(act[0])\n",
    "\n",
    "    def reinforce(self, s_, n_s, a_, r_, game_over_):\n",
    "        # Two steps: first memorize the states, second learn from the pool\n",
    "\n",
    "        self.memory.remember([s_, n_s, a_, r_, game_over_])\n",
    "        \n",
    "        input_states = np.zeros((self.batch_size, 5, 5, self.n_state))\n",
    "        target_q = np.zeros((self.batch_size, 4)) # 4 actions to take\n",
    "        \n",
    "        \n",
    "        #for state, action, reward, next_state, done in minibatch:\n",
    "        for i in range(self.batch_size):\n",
    "            \n",
    "            # we create a mini batch constituted of random past experiences:\n",
    "            mini_batch = self.memory.random_access()\n",
    "            \n",
    "            # each row of mini_batch has: state, next_state, action, reward, game_over_\n",
    "            s_ , n_s_, a_, r_, game_over_ = mini_batch\n",
    "\n",
    "            input_states[i] = s_\n",
    "            \n",
    "            if game_over_:\n",
    "                target_q[i, a_] = r_ # no more possible state\n",
    "                \n",
    "            else:\n",
    "                x = np.reshape(n_s_, (1, 5, 5, self.n_state)) \n",
    "                target_q[i, a_] = r_ + self.discount * np.amax(self.model.predict(x)) \n",
    "        \n",
    "        # HINT: Clip the target to avoid exploiding gradients.. -- clipping is a bit tighter\n",
    "        target_q = np.clip(target_q, -3, 3)\n",
    "\n",
    "        l = self.model.train_on_batch(input_states, target_q) # loss function. \n",
    "\n",
    "\n",
    "        \n",
    "        return l\n",
    "\n",
    "    def save(self,name_weights='model.h5',name_model='model.json'):\n",
    "        self.model.save_weights(name_weights, overwrite=True)\n",
    "        with open(name_model, \"w\") as outfile:\n",
    "            json.dump(self.model.to_json(), outfile)\n",
    "            \n",
    "    def load(self,name_weights='model.h5',name_model='model.json'):\n",
    "        with open(name_model, \"r\") as jfile:\n",
    "            model = model_from_json(json.load(jfile))\n",
    "        model.load_weights(name_weights)\n",
    "        model.compile(\"sgd\", \"mse\")\n",
    "        self.model = model\n",
    "\n",
    "            \n",
    "class DQN_FC(DQN):\n",
    "    def __init__(self, *args, lr=0.1,**kwargs):\n",
    "        super(DQN_FC, self).__init__( *args,**kwargs)\n",
    "        \n",
    "        # NN Model\n",
    "        \n",
    "        model = Sequential()\n",
    "        model.add(Reshape((5*5*self.n_state,), input_shape=(5,5,self.n_state)))\n",
    "        model.add(Dense(64, input_dim=5*5*self.n_state))\n",
    "        model.add(Dense(4))\n",
    "        \n",
    "        model.compile(sgd(lr=0.1, decay=0.0001, momentum=0.0), \"mse\")\n",
    "        self.model = model\n",
    "        "
   ]
  },
  {
   "cell_type": "code",
   "execution_count": 12,
   "metadata": {},
   "outputs": [
    {
     "name": "stdout",
     "output_type": "stream",
     "text": [
      "Epoch 000/010 | Loss 0.0171 | Win/lose count 4.5/1.0 (3.5)\n",
      "Epoch 001/010 | Loss 0.0052 | Win/lose count 5.5/4.0 (1.5)\n",
      "Epoch 002/010 | Loss 0.0050 | Win/lose count 4.0/3.0 (1.0)\n",
      "Epoch 003/010 | Loss 0.0025 | Win/lose count 5.5/4.0 (1.5)\n",
      "Epoch 004/010 | Loss 0.0093 | Win/lose count 6.5/2.0 (4.5)\n",
      "Epoch 005/010 | Loss 0.0107 | Win/lose count 1.5/1.0 (0.5)\n",
      "Epoch 006/010 | Loss 0.0045 | Win/lose count 10.5/3.0 (7.5)\n",
      "Epoch 007/010 | Loss 0.0124 | Win/lose count 13.5/6.0 (7.5)\n",
      "Epoch 008/010 | Loss 0.0102 | Win/lose count 12.0/4.0 (8.0)\n",
      "Epoch 009/010 | Loss 0.0020 | Win/lose count 12.5/5.0 (7.5)\n"
     ]
    },
    {
     "data": {
      "text/html": [
       "<video alt=\"test\" controls>\n",
       "                <source src=\"data:video/mp4;base64,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\" type=\"video/mp4\" />\n",
       "             </video>"
      ],
      "text/plain": [
       "<IPython.core.display.HTML object>"
      ]
     },
     "execution_count": 12,
     "metadata": {},
     "output_type": "execute_result"
    }
   ],
   "source": [
    "env = Environment(grid_size=size, max_time=T, temperature=0.3)\n",
    "agent = DQN_FC(size, lr=0.1, epsilon = 0.1, memory_size=2000, batch_size = 32)\n",
    "\n",
    "epochs_train = 10\n",
    "train(agent, env, epochs_train, prefix='fc_train')\n",
    "HTML(display_videos('fc_train0.mp4'))"
   ]
  },
  {
   "cell_type": "markdown",
   "metadata": {},
   "source": [
    "***\n",
    "***\n",
    "__Question 8__ Implement the DQN training algorithm using a CNN (for example, 2 convolutional layers and one final fully connected layer)."
   ]
  },
  {
   "cell_type": "code",
   "execution_count": 13,
   "metadata": {
    "collapsed": true
   },
   "outputs": [],
   "source": [
    "from keras.layers import Flatten\n",
    "\n",
    "class DQN_CNN(DQN):\n",
    "    def __init__(self, *args,lr=0.1,**kwargs):\n",
    "        super(DQN_CNN, self).__init__(*args,**kwargs)\n",
    "        \n",
    "        model = Sequential()\n",
    "        model.add(Conv2D(64, (2, 2), input_shape=(5, 5, self.n_state)))\n",
    "        model.add(Conv2D(16, (2, 2)))\n",
    "        \n",
    "        model.add(Flatten())\n",
    "        model.add(Dense(4))\n",
    "        \n",
    "        model.compile(sgd(lr=lr, decay=1e-4, momentum=0.0), \"mse\")\n",
    "        self.model = model"
   ]
  },
  {
   "cell_type": "code",
   "execution_count": 15,
   "metadata": {},
   "outputs": [
    {
     "name": "stdout",
     "output_type": "stream",
     "text": [
      "Epoch 000/010 | Loss 0.0168 | Win/lose count 8.0/4.0 (4.0)\n",
      "Epoch 001/010 | Loss 0.0089 | Win/lose count 4.5/7.0 (-2.5)\n",
      "Epoch 002/010 | Loss 0.0059 | Win/lose count 7.0/4.0 (3.0)\n",
      "Epoch 003/010 | Loss 0.0243 | Win/lose count 7.0/7.0 (0.0)\n",
      "Epoch 004/010 | Loss 0.0079 | Win/lose count 4.5/6.0 (-1.5)\n",
      "Epoch 005/010 | Loss 0.0094 | Win/lose count 11.5/2.0 (9.5)\n",
      "Epoch 006/010 | Loss 0.0023 | Win/lose count 0/1.0 (-1.0)\n",
      "Epoch 007/010 | Loss 0.0086 | Win/lose count 7.5/2.0 (5.5)\n",
      "Epoch 008/010 | Loss 0.0062 | Win/lose count 3.0/2.0 (1.0)\n",
      "Epoch 009/010 | Loss 0.0090 | Win/lose count 8.5/1.0 (7.5)\n"
     ]
    },
    {
     "data": {
      "text/html": [
       "<video alt=\"test\" controls>\n",
       "                <source src=\"data:video/mp4;base64,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\" type=\"video/mp4\" />\n",
       "             </video>"
      ],
      "text/plain": [
       "<IPython.core.display.HTML object>"
      ]
     },
     "execution_count": 15,
     "metadata": {},
     "output_type": "execute_result"
    }
   ],
   "source": [
    "env = Environment(grid_size=size, max_time=T, temperature=0.3)\n",
    "agent = DQN_CNN(size, lr=.1, epsilon = 0.1, memory_size=2000, batch_size = 32)\n",
    "train(agent, env, 10, prefix='cnn_train')\n",
    "HTML(display_videos('cnn_train0.mp4'))"
   ]
  },
  {
   "cell_type": "markdown",
   "metadata": {},
   "source": [
    "***\n",
    "***\n",
    "__Question 9__ Test both algorithms and compare their performances. Which issue(s) do you observe? Observe also different behaviors by changing the temperature."
   ]
  },
  {
   "cell_type": "code",
   "execution_count": 17,
   "metadata": {},
   "outputs": [
    {
     "name": "stdout",
     "output_type": "stream",
     "text": [
      "Test of the CNN\n",
      "Win/lose count 6.0/2.0. Average score (4.0)\n",
      "Win/lose count 13.0/5.0. Average score (6.0)\n",
      "Win/lose count 1.0/3.0. Average score (3.3333333333333335)\n",
      "Win/lose count 8.0/1.0. Average score (4.25)\n",
      "Win/lose count 6.0/7.0. Average score (3.2)\n",
      "Final score: 3.2\n",
      "Test of the FC\n",
      "Win/lose count 8.5/9.0. Average score (-0.5)\n",
      "Win/lose count 8.0/5.0. Average score (1.25)\n",
      "Win/lose count 7.0/0. Average score (3.1666666666666665)\n",
      "Win/lose count 7.5/1.0. Average score (4.0)\n",
      "Win/lose count 8.5/4.0. Average score (4.1)\n",
      "Final score: 4.1\n"
     ]
    }
   ],
   "source": [
    "env = Environment(grid_size=size, max_time=T,temperature=0.5)\n",
    "epochs_test = 5\n",
    "\n",
    "agent_cnn = DQN_CNN(size, lr=.1, epsilon = 0.1, memory_size=2000, batch_size = 32)\n",
    "agent_cnn.load(name_weights='cnn_trainmodel.h5',name_model='cnn_trainmodel.json')\n",
    "\n",
    "agent_fc = DQN_FC(size, lr=.1, epsilon = 0.1, memory_size=2000, batch_size = 32)\n",
    "agent_cnn.load(name_weights='fc_trainmodel.h5',name_model='fc_trainmodel.json')\n",
    "\n",
    "print('Test of the CNN')\n",
    "test(agent_cnn, env, epochs_test, prefix='cnn_test')\n",
    "\n",
    "print('Test of the FC')\n",
    "test(agent_fc, env, epochs_test, prefix='fc_test')"
   ]
  },
  {
   "cell_type": "code",
   "execution_count": 18,
   "metadata": {},
   "outputs": [
    {
     "data": {
      "text/html": [
       "<video alt=\"test\" controls>\n",
       "                <source src=\"data:video/mp4;base64,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\" type=\"video/mp4\" />\n",
       "             </video>"
      ],
      "text/plain": [
       "<IPython.core.display.HTML object>"
      ]
     },
     "execution_count": 18,
     "metadata": {},
     "output_type": "execute_result"
    }
   ],
   "source": [
    "HTML(display_videos('cnn_test0.mp4'))"
   ]
  },
  {
   "cell_type": "code",
   "execution_count": 19,
   "metadata": {},
   "outputs": [
    {
     "data": {
      "text/html": [
       "<video alt=\"test\" controls>\n",
       "                <source src=\"data:video/mp4;base64,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\" type=\"video/mp4\" />\n",
       "             </video>"
      ],
      "text/plain": [
       "<IPython.core.display.HTML object>"
      ]
     },
     "execution_count": 19,
     "metadata": {},
     "output_type": "execute_result"
    }
   ],
   "source": [
    "HTML(display_videos('fc_test0.mp4'))"
   ]
  },
  {
   "cell_type": "code",
   "execution_count": 20,
   "metadata": {},
   "outputs": [
    {
     "name": "stdout",
     "output_type": "stream",
     "text": [
      "Test of the CNN\n",
      "Win/lose count 9.0/3.0. Average score (6.0)\n",
      "Win/lose count 7.5/2.0. Average score (5.75)\n",
      "Win/lose count 10.5/1.0. Average score (7.0)\n",
      "Win/lose count 10.5/1.0. Average score (7.625)\n",
      "Win/lose count 10.5/0. Average score (8.2)\n",
      "Final score: 8.2\n",
      "Test of the FC\n",
      "Win/lose count 10.5/4.0. Average score (6.5)\n",
      "Win/lose count 24.0/4.0. Average score (13.25)\n",
      "Win/lose count 24.0/3.0. Average score (15.833333333333334)\n",
      "Win/lose count 35.0/4.0. Average score (19.625)\n",
      "Win/lose count 31.0/2.0. Average score (21.5)\n",
      "Final score: 21.5\n"
     ]
    }
   ],
   "source": [
    "env = Environment(grid_size=size, max_time=T,temperature=0.9)\n",
    "epochs_test = 5\n",
    "\n",
    "agent_cnn = DQN_CNN(size, lr=.1, epsilon = 0.1, memory_size=2000, batch_size = 32)\n",
    "agent_cnn.load(name_weights='cnn_trainmodel.h5',name_model='cnn_trainmodel.json')\n",
    "\n",
    "agent_fc = DQN_FC(size, lr=.1, epsilon = 0.1, memory_size=2000, batch_size = 32)\n",
    "agent_cnn.load(name_weights='fc_trainmodel.h5',name_model='fc_trainmodel.json')\n",
    "\n",
    "print('Test of the CNN')\n",
    "test(agent_cnn, env, epochs_test, prefix='cnn_test')\n",
    "\n",
    "print('Test of the FC')\n",
    "test(agent_fc, env, epochs_test, prefix='fc_test')"
   ]
  },
  {
   "cell_type": "code",
   "execution_count": 22,
   "metadata": {},
   "outputs": [
    {
     "name": "stdout",
     "output_type": "stream",
     "text": [
      "Test of the CNN\n",
      "Win/lose count 3.5/0. Average score (3.5)\n",
      "Win/lose count 0.5/1.0. Average score (1.5)\n",
      "Win/lose count 3.0/2.0. Average score (1.3333333333333333)\n",
      "Win/lose count 0/0. Average score (1.0)\n",
      "Win/lose count 3.5/3.0. Average score (0.9)\n",
      "Final score: 0.9\n",
      "Test of the FC\n",
      "Win/lose count 4.5/6.0. Average score (-1.5)\n",
      "Win/lose count 0/0. Average score (-0.75)\n",
      "Win/lose count 1.0/0. Average score (-0.16666666666666666)\n",
      "Win/lose count 2.0/1.0. Average score (0.125)\n",
      "Win/lose count 5.5/2.0. Average score (0.8)\n",
      "Final score: 0.8\n"
     ]
    }
   ],
   "source": [
    "env = Environment(grid_size=size, max_time=T,temperature=0.1)\n",
    "epochs_test = 5\n",
    "\n",
    "agent_cnn = DQN_CNN(size, lr=.1, epsilon = 0.1, memory_size=2000, batch_size = 32)\n",
    "agent_cnn.load(name_weights='cnn_trainmodel.h5',name_model='cnn_trainmodel.json')\n",
    "\n",
    "agent_fc = DQN_FC(size, lr=.1, epsilon = 0.1, memory_size=2000, batch_size = 32)\n",
    "agent_cnn.load(name_weights='fc_trainmodel.h5',name_model='fc_trainmodel.json')\n",
    "\n",
    "print('Test of the CNN')\n",
    "test(agent_cnn, env, epochs_test, prefix='cnn_test')\n",
    "\n",
    "print('Test of the FC')\n",
    "test(agent_fc, env, epochs_test, prefix='fc_test')"
   ]
  },
  {
   "cell_type": "markdown",
   "metadata": {},
   "source": [
    "Answer:\n",
    "- We observe that at temperature = 0.5, both models tends to perform the same (CNN is slightly better)\n",
    "- When temperature increases, FC seems to perform better (probably because the bonus/malus is more significant)\n",
    "- When the temprature is low, both agents have difficulty to reach the cheese (probably because the bonus/malus is less significant)"
   ]
  },
  {
   "cell_type": "markdown",
   "metadata": {},
   "source": [
    "***\n",
    "\n",
    "The algorithm tends to not explore the map which can be an issue. We propose two ideas in order to encourage exploration:\n",
    "1. Incorporating a decreasing $\\epsilon$-greedy exploration. You can use the method ```set_epsilon```\n",
    "2. Append via the environment a new state that describes if a cell has been visited or not\n",
    "\n",
    "***\n",
    "__Question 10__ Design a new ```train_explore``` function and environment class ```EnvironmentExploring``` to tackle the issue of exploration.\n",
    "\n"
   ]
  },
  {
   "cell_type": "code",
   "execution_count": 24,
   "metadata": {
    "collapsed": true
   },
   "outputs": [],
   "source": [
    "def train_explore(agent,env,epoch,prefix=''):\n",
    "    # Number of won games\n",
    "    score = 0\n",
    "    loss = 0\n",
    "\n",
    "    for e in range(epoch):\n",
    "        # At each epoch, we restart to a fresh game and get the initial state\n",
    "        state = env.reset()\n",
    "        # This assumes that the games will terminate\n",
    "        game_over = False\n",
    "\n",
    "        win = 0\n",
    "        lose = 0\n",
    "\n",
    "        while not game_over:\n",
    "            # The agent performs an action\n",
    "            action = agent.act(state, train=True)\n",
    "\n",
    "            # Apply an action to the environment, get the next state, the reward\n",
    "            # and if the games end\n",
    "            prev_state = state\n",
    "            #state, reward, game_over = env.act(action)\n",
    "            state, reward, game_over = env.act(action, train=True)\n",
    "\n",
    "            # Update the counters\n",
    "            if reward > 0:\n",
    "                win = win + reward\n",
    "            if reward < 0:\n",
    "                lose = lose -reward\n",
    "\n",
    "            # Apply the reinforcement strategy\n",
    "            loss = agent.reinforce(prev_state, state, action, reward, game_over)\n",
    "            \n",
    "        # Save as a mp4\n",
    "        if e % 10 == 0:\n",
    "            env.draw(prefix+str(e))\n",
    "\n",
    "        # Update stats\n",
    "        score += win-lose\n",
    "\n",
    "        print(\"Epoch {:03d}/{:03d} | Loss {:.4f} | Win/lose count {}/{} ({})\"\n",
    "              .format(e+1, epoch, loss, win, lose, win-lose))\n",
    "        agent.save(name_weights=prefix+'model.h5',name_model=prefix+'model.json')\n",
    "        \n",
    "class EnvironmentExploring(object):\n",
    "    def __init__(self, grid_size=10, max_time=500, temperature=0.1):\n",
    "        \n",
    "        grid_size = grid_size+4\n",
    "        self.grid_size = grid_size\n",
    "        self.max_time = max_time\n",
    "        self.temperature = temperature\n",
    "\n",
    "        #board on which one plays\n",
    "        self.board = np.zeros((grid_size,grid_size))\n",
    "        self.position = np.zeros((grid_size,grid_size))\n",
    "        self.malus_position = np.zeros((grid_size,grid_size))\n",
    "\n",
    "        # coordinate of the cat\n",
    "        self.x = 0\n",
    "        self.y = 1\n",
    "\n",
    "        # self time\n",
    "        self.t = 0\n",
    "\n",
    "        self.scale=16\n",
    "\n",
    "        self.to_draw = np.zeros((max_time+2, grid_size*self.scale, grid_size*self.scale, 3))\n",
    "\n",
    "\n",
    "    def draw(self,e):\n",
    "        skvideo.io.vwrite(str(e) + '.mp4', self.to_draw)\n",
    "\n",
    "    def get_frame(self,t):\n",
    "        b = np.zeros((self.grid_size,self.grid_size,3))+128\n",
    "        b[self.board>0,0] = 256\n",
    "        b[self.board < 0, 2] = 256\n",
    "        b[self.x,self.y,:]=256\n",
    "        b[-2:,:,:]=0\n",
    "        b[:,-2:,:]=0\n",
    "        b[:2,:,:]=0\n",
    "        b[:,:2,:]=0\n",
    "        \n",
    "        b =  cv2.resize(b, None, fx=self.scale, fy=self.scale, interpolation=cv2.INTER_NEAREST)\n",
    "\n",
    "        self.to_draw[t,:,:,:]=b\n",
    "\n",
    "\n",
    "    def act(self, action, train=True):\n",
    "        \"\"\"This function returns the new state, reward and decides if the\n",
    "        game ends.\"\"\"\n",
    "\n",
    "        self.get_frame(int(self.t))\n",
    "\n",
    "        self.position = np.zeros((self.grid_size, self.grid_size))\n",
    "\n",
    "        # define borders\n",
    "        self.position[0:2,:]= -1 # first two lines\n",
    "        self.position[:,0:2] = -1 # first two columns\n",
    "        self.position[-2:, :] = -1 # last two lines\n",
    "        self.position[:,-2:] = -1 # last two columns\n",
    "\n",
    "        self.position[self.x, self.y] = 1\n",
    "        if action == 0:\n",
    "            if self.x == self.grid_size-3:\n",
    "                self.x = self.x-1\n",
    "            else:\n",
    "                self.x = self.x + 1\n",
    "        elif action == 1:\n",
    "            if self.x == 2:\n",
    "                self.x = self.x+1\n",
    "            else:\n",
    "                self.x = self.x-1\n",
    "        elif action == 2:\n",
    "            if self.y == self.grid_size - 3:\n",
    "                self.y = self.y - 1\n",
    "            else:\n",
    "                self.y = self.y + 1\n",
    "        elif action == 3:\n",
    "            if self.y == 2:\n",
    "                self.y = self.y + 1\n",
    "            else:\n",
    "                self.y = self.y - 1\n",
    "        else:\n",
    "            RuntimeError('Error: action not recognized')\n",
    "\n",
    "        self.t = self.t + 1\n",
    "        \n",
    "        reward = 0\n",
    "        if train:\n",
    "            reward = -self.malus_position[self.x, self.y]\n",
    "        self.malus_position[self.x, self.y] = 0.1\n",
    "        reward = reward + self.board[self.x, self.y]\n",
    "        \n",
    "        self.board[self.x, self.y] = 0\n",
    "        game_over = self.t > self.max_time\n",
    "        \n",
    "        state = np.concatenate((self.malus_position.reshape(self.grid_size, self.grid_size,1),\n",
    "                                self.board.reshape(self.grid_size, self.grid_size,1),\n",
    "                                self.position.reshape(self.grid_size, self.grid_size,1)),axis=2)\n",
    "        state = state[self.x-2:self.x+3,self.y-2:self.y+3,:]\n",
    "\n",
    "        return state, reward, game_over\n",
    "\n",
    "    def reset(self):\n",
    "        \"\"\"This function resets the game and returns the initial state\"\"\"\n",
    "\n",
    "        self.x = np.random.randint(3, self.grid_size-3, size=1)[0]\n",
    "        self.y = np.random.randint(3, self.grid_size-3, size=1)[0]\n",
    "\n",
    "\n",
    "        bonus = 0.5*np.random.binomial(1,self.temperature,size=self.grid_size**2)\n",
    "        bonus = bonus.reshape(self.grid_size,self.grid_size)\n",
    "\n",
    "        malus = -1.0*np.random.binomial(1,self.temperature,size=self.grid_size**2)\n",
    "        malus = malus.reshape(self.grid_size, self.grid_size)\n",
    "\n",
    "        self.to_draw = np.zeros((self.max_time+2, self.grid_size*self.scale, self.grid_size*self.scale, 3))\n",
    "\n",
    "        malus[bonus>0] = 0\n",
    "\n",
    "        self.board = bonus + malus\n",
    "\n",
    "        self.position = np.zeros((self.grid_size, self.grid_size))\n",
    "        self.position[0:2,:]= -1\n",
    "        self.position[:,0:2] = -1\n",
    "        self.position[-2:, :] = -1\n",
    "        self.position[:,-2:] = -1\n",
    "        self.board[self.x,self.y] = 0\n",
    "        self.t = 0\n",
    "\n",
    "        state = np.concatenate((self.malus_position.reshape(self.grid_size, self.grid_size,1),\n",
    "                                self.board.reshape(self.grid_size, self.grid_size,1),\n",
    "                                self.position.reshape(self.grid_size, self.grid_size,1)),axis=2)\n",
    "\n",
    "        state = state[self.x - 2:self.x + 3, self.y - 2:self.y + 3, :]\n",
    "        return state"
   ]
  },
  {
   "cell_type": "code",
   "execution_count": 26,
   "metadata": {},
   "outputs": [
    {
     "name": "stdout",
     "output_type": "stream",
     "text": [
      "Epoch 001/010 | Loss 0.0171 | Win/lose count 2.5/25.600000000000065 (-23.100000000000065)\n",
      "Epoch 002/010 | Loss 0.0047 | Win/lose count 3.5/18.19999999999999 (-14.699999999999989)\n",
      "Epoch 003/010 | Loss 0.0147 | Win/lose count 13.000000000000002/22.100000000000023 (-9.100000000000021)\n",
      "Epoch 004/010 | Loss 0.0070 | Win/lose count 9.4/22.400000000000066 (-13.000000000000066)\n",
      "Epoch 005/010 | Loss 0.0214 | Win/lose count 5.000000000000001/20.600000000000012 (-15.600000000000012)\n",
      "Epoch 006/010 | Loss 0.0117 | Win/lose count 5.4/20.300000000000004 (-14.900000000000004)\n",
      "Epoch 007/010 | Loss 0.0124 | Win/lose count 12.900000000000006/18.8 (-5.899999999999995)\n",
      "Epoch 008/010 | Loss 0.0175 | Win/lose count 4.3999999999999995/22.600000000000062 (-18.200000000000063)\n",
      "Epoch 009/010 | Loss 0.0053 | Win/lose count 10.400000000000004/18.499999999999996 (-8.099999999999993)\n",
      "Epoch 010/010 | Loss 0.0034 | Win/lose count 9.500000000000004/20.600000000000012 (-11.100000000000009)\n"
     ]
    },
    {
     "data": {
      "text/html": [
       "<video alt=\"test\" controls>\n",
       "                <source src=\"data:video/mp4;base64,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\" type=\"video/mp4\" />\n",
       "             </video>"
      ],
      "text/plain": [
       "<IPython.core.display.HTML object>"
      ]
     },
     "execution_count": 26,
     "metadata": {},
     "output_type": "execute_result"
    }
   ],
   "source": [
    "# Training\n",
    "\n",
    "env = EnvironmentExploring(grid_size=size, max_time=T, temperature=0.3)\n",
    "agent = DQN_CNN(size, lr=.1, epsilon = 0.1, memory_size=2000, batch_size = 32,n_state=3)\n",
    "train_explore(agent, env, 10, prefix='cnn_train_explore')\n",
    "HTML(display_videos('cnn_train_explore0.mp4'))"
   ]
  },
  {
   "cell_type": "code",
   "execution_count": 27,
   "metadata": {},
   "outputs": [
    {
     "name": "stdout",
     "output_type": "stream",
     "text": [
      "Win/lose count 13.200000000000006/23.800000000000054. Average score (-10.600000000000048)\n",
      "Win/lose count 11.300000000000004/19.300000000000004. Average score (-9.300000000000024)\n",
      "Win/lose count 12.400000000000006/22.000000000000057. Average score (-9.400000000000032)\n",
      "Win/lose count 11.200000000000005/23.30000000000006. Average score (-10.075000000000038)\n",
      "Win/lose count 7.200000000000002/19.300000000000008. Average score (-10.480000000000032)\n",
      "Final score: -10.48\n"
     ]
    },
    {
     "data": {
      "text/html": [
       "<video alt=\"test\" controls>\n",
       "                <source src=\"data:video/mp4;base64,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\" type=\"video/mp4\" />\n",
       "             </video>"
      ],
      "text/plain": [
       "<IPython.core.display.HTML object>"
      ]
     },
     "execution_count": 27,
     "metadata": {},
     "output_type": "execute_result"
    }
   ],
   "source": [
    "# Evaluation\n",
    "test(agent,env,5,prefix='cnn_test_explore')\n",
    "HTML(display_videos('cnn_test_explore0.mp4'))"
   ]
  },

  {
   "cell_type": "markdown",
   "metadata": {},
   "source": []
  },
  {
   "cell_type": "markdown",
   "metadata": {},
   "source": [
    "***"
   ]
  }
 ],
 "metadata": {
  "kernelspec": {
   "display_name": "Python 3",
   "language": "python",
   "name": "python3"
  },
  "language_info": {
   "codemirror_mode": {
    "name": "ipython",
    "version": 3
   },
   "file_extension": ".py",
   "mimetype": "text/x-python",
   "name": "python",
   "nbconvert_exporter": "python",
   "pygments_lexer": "ipython3",
   "version": "3.6.3"
  }
 },
 "nbformat": 4,
 "nbformat_minor": 2
}
