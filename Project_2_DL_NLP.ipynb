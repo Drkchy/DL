{
 "cells": [
  {
   "cell_type": "markdown",
   "metadata": {},
   "source": [
    "# Deep Learning for NLP - Project"
   ]
  },
  {
   "cell_type": "markdown",
   "metadata": {},
   "source": [
    "RULES:\n",
    "\n",
    "* Do not create any additional cell\n",
    "\n",
    "* Fill in the blanks\n",
    "\n",
    "* All cells should be runnable (modulo trivial compatibility bugs that we'd fix)\n",
    "\n",
    "* 4 / 20 points will be allocated to the clarity of your code\n",
    "\n",
    "* Efficient code will have a bonus\n",
    "\n",
    "DELIVERABLE:\n",
    "\n",
    "* this notebook\n",
    "* the predictions of the SST test set\n",
    "\n",
    "DO NOT INCLUDE THE DATASETS IN THE DELIVERABLE.."
   ]
  },
  {
   "cell_type": "code",
   "execution_count": 3,
   "metadata": {
    "collapsed": true
   },
   "outputs": [],
   "source": [
    "import io\n",
    "import os\n",
    "import numpy as np\n",
    "import scipy\n",
    "\n",
    "from sklearn.linear_model import LogisticRegression\n",
    "from sklearn.model_selection import cross_val_score"
   ]
  },
  {
   "cell_type": "code",
   "execution_count": 4,
   "metadata": {
    "collapsed": true
   },
   "outputs": [],
   "source": [
    "PATH_TO_DATA = \"C:/Users/Chuyi/Documents/DSBA/T2/Deep_Learning/Mini_project_2/nlp_project/data/\""
   ]
  },
  {
   "cell_type": "markdown",
   "metadata": {},
   "source": [
    "# 1) Monolingual (English) word embeddings "
   ]
  },
  {
   "cell_type": "code",
   "execution_count": 31,
   "metadata": {
    "collapsed": true
   },
   "outputs": [],
   "source": [
    "class Word2vec():\n",
    "    def __init__(self, fname, nmax=100000):\n",
    "        self.load_wordvec(fname, nmax)\n",
    "        self.word2id = dict.fromkeys(self.word2vec.keys())\n",
    "\n",
    "        self.id2word = {v: k for k, v in self.word2id.items()}\n",
    "        self.embeddings = np.array(self.word2vec.values())\n",
    "        \n",
    "        index=0\n",
    "        for i in self.word2id.keys():\n",
    "            self.word2id[i] = index\n",
    "            index += 1\n",
    "    \n",
    "    def load_wordvec(self, fname, nmax):\n",
    "        self.word2vec = {}\n",
    "        with io.open(fname, encoding='utf-8') as f:\n",
    "            next(f)\n",
    "            for i, line in enumerate(f):\n",
    "                word, vec = line.split(' ', 1)\n",
    "                #self.word2vec[word.lower()] = np.fromstring(vec, sep=' ')\n",
    "                self.word2vec[word] = np.fromstring(vec, sep=' ')\n",
    "                if i == (nmax - 1):\n",
    "                    break\n",
    "        print('Loaded %s pretrained word vectors' % (len(self.word2vec)))\n",
    "\n",
    "\n",
    "    def most_similar(self, w, K=5):\n",
    "        # K most similar words: self.score  -  np.argsort \n",
    "        scores = []\n",
    "        for word_comp in self.word2vec.keys():\n",
    "            scores.append(self.score(w,word_comp))\n",
    "        scores_array = np.asarray(scores)\n",
    "\n",
    "        idxs = scores_array.argsort()[::-1][1:K+1]\n",
    "\n",
    "        key = list(self.word2vec.keys())\n",
    "        similar_words = []\n",
    "        for i in idxs:\n",
    "            similar_words.append(key[i])\n",
    "        return similar_words\n",
    "\n",
    "    def score(self, w1, w2):\n",
    "        vect1= self.word2vec[w1]\n",
    "        vect2= self.word2vec[w2]\n",
    "        dot_product = np.dot(vect1, vect2)\n",
    "        norm_w1 = np.linalg.norm(vect1)\n",
    "        norm_w2 = np.linalg.norm(vect2)\n",
    "        return dot_product/(norm_w1*norm_w2)\n",
    "    "
   ]
  },
  {
   "cell_type": "code",
   "execution_count": 32,
   "metadata": {},
   "outputs": [
    {
     "name": "stdout",
     "output_type": "stream",
     "text": [
      "Loaded 200000 pretrained word vectors\n",
      "cat dog 0.671683666279\n",
      "dog pet 0.684206402967\n",
      "dogs cats 0.707438932805\n",
      "paris france 0.777510854129\n",
      "germany berlin 0.7420295236\n",
      "['cats', 'kitty', 'kitten', 'feline', 'kitties']  are the most similar words for:  cat\n",
      "['dogs', 'puppy', 'Dog', 'doggie', 'canine']  are the most similar words for:  dog\n",
      "['dog', 'pooches', 'Dogs', 'doggies', 'canines']  are the most similar words for:  dogs\n",
      "['france', 'Paris', 'parisian', 'london', 'berlin']  are the most similar words for:  paris\n",
      "['austria', 'europe', 'german', 'berlin', 'poland']  are the most similar words for:  germany\n"
     ]
    }
   ],
   "source": [
    "w2v = Word2vec(os.path.join(PATH_TO_DATA, 'crawl-300d-200k.vec'), nmax=200000)\n",
    "\n",
    "# You will be evaluated on the output of the following:\n",
    "for w1, w2 in zip(('cat', 'dog', 'dogs', 'paris', 'germany'), ('dog', 'pet', 'cats', 'france', 'berlin')):\n",
    "    print(w1, w2, w2v.score(w1, w2))\n",
    "       \n",
    "for w1 in ['cat', 'dog', 'dogs', 'paris', 'germany']:\n",
    "    print(w2v.most_similar(w1),' are the most similar words for: ',w1)"
   ]
  },
  {
   "cell_type": "code",
   "execution_count": 33,
   "metadata": {
    "collapsed": true
   },
   "outputs": [],
   "source": [
    "class BoV():\n",
    "    def __init__(self, w2v):\n",
    "        self.w2v = w2v\n",
    "\n",
    "\n",
    "    def encode(self, sentences, idf=False, fill_blank=False):\n",
    "        # takes a list of sentences, outputs a numpy array of sentence embeddings\n",
    "        # see TP1 for help\n",
    "        sentemb = []\n",
    "        for sent in sentences:\n",
    "            if idf is False:\n",
    "                encoding = [w2v.word2vec[w] for w in sent if w in w2v.word2vec]\n",
    "                if encoding != []:\n",
    "                    sentemb.append(np.mean(encoding, axis = 0))\n",
    "                #sentemb.append(np.mean([w2v.word2vec[w] for w in sent if w in w2v.word2vec], axis=0))\n",
    "                else:\n",
    "                    sentemb.append([0]*300)\n",
    "                #assert False, 'TODO: fill in the blank'\n",
    "                \n",
    "            else:\n",
    "                encoding = [w2v.word2vec[w]*idf[w] for w in sent if w in w2v.word2vec and w in idf]\n",
    "                if encoding != []:\n",
    "                    sentemb.append(np.mean(encoding, axis = 0))\n",
    "                else:\n",
    "                    sentemb.append([0]*300)\n",
    "                # idf-weighted mean of word vectors\n",
    "                #sentemb.append(np.mean([w2v.word2vec[w]*idf[w] for w in sent if w in w2v.word2vec and w in idf], axis=0))\n",
    "                #assert False, 'TODO: fill in the blank'\n",
    "        \n",
    "        sentemb_array = np.asarray(sentemb)\n",
    "        \n",
    "        return np.vstack(sentemb_array)\n",
    "        \n",
    "    def most_similar(self, s, sentences, idf=False, K=5):\n",
    "        # get most similar sentences and **print** them\n",
    "        index_s = sentences.index(s)\n",
    "        \n",
    "        #Encode all the sentences and retrieve the vector of the target sentence\n",
    "        keys = self.encode(sentences, idf)\n",
    "        query = keys[sentences.index(s),]  \n",
    "        \n",
    "        ## normalize embeddings\n",
    "        keys = keys / np.linalg.norm(keys, 2, 1)[:, None]  # normalize embeddings\n",
    "        query = query/np.linalg.norm(query)\n",
    "           \n",
    "        #compute score with other sentences vector for s            \n",
    "        scores = np.dot(keys,query) \n",
    "        idx = scores.argsort()[::-1][1:K+1]\n",
    "        \n",
    "        #select the K  biggest score(corresponding to the K most similar sentences with s)\n",
    "        sentences_most_similar = []\n",
    "        scores_most_similar = []\n",
    "        \n",
    "        for i in idx:\n",
    "            sentences_most_similar.append(sentences[i])\n",
    "            scores_most_similar.append(scores[i])\n",
    "             \n",
    "        return  print('The ',K,' most similar sentences for ',s,' are: \\n',sentences_most_similar, ',\\n With respective similarities: \\n',scores_most_similar)\n",
    "\n",
    "\n",
    "\n",
    "    def score(self, s1, s2, idf=False):\n",
    "    \n",
    "        #compute sentemp matrix\n",
    "        sentemb = self.encode(sentences,idf)\n",
    "        \n",
    "        #get back s1 and s2 encoded\n",
    "        s1_encoded = sentemb[sentences.index(s1)]\n",
    "        s2_encoded = sentemb[sentences.index(s2)]\n",
    "        \n",
    "        #normalization of s1 and s2 before doing dot product\n",
    "        s1_norm = np.linalg.norm(s1_encoded)\n",
    "        s2_norm = np.linalg.norm(s2_encoded)\n",
    "        \n",
    "        # dot-product of normalized vector = cosine similarity\n",
    "        s = np.dot(s1_encoded,s2_encoded)/float(s1_norm*s2_norm)\n",
    "       \n",
    "        return print('Similarity score between \\n',s1,'\\n and ',s2,'\\n is: ',s,'\\n')\n",
    "\n",
    "    \n",
    "    def build_idf(self,sentences):\n",
    "        # build the idf dictionary: associate each word to its idf value\n",
    "        idf = {} \n",
    "\n",
    "        for sent in sentences:\n",
    "                for w in set(sent): #set() gives unique elements in list \n",
    "                    idf[w] = idf.get(w, 0) + 1\n",
    "\n",
    "        for w in idf:\n",
    "            idf[w] = max(1,(np.log10(len(sentences) / (idf[w]))))\n",
    "            \n",
    "        return idf"
   ]
  },
  {
   "cell_type": "code",
   "execution_count": 34,
   "metadata": {},
   "outputs": [
    {
     "name": "stdout",
     "output_type": "stream",
     "text": [
      "Loaded 200000 pretrained word vectors\n",
      "\n",
      " BoV-mean Model:\n",
      "The  5  most similar sentences for  ['1', 'smiling', 'african', 'american', 'boy', '.']  are: \n",
      " [['an', 'african', 'american', 'man', 'smiling', '.'], ['a', 'little', 'african', 'american', 'boy', 'and', 'girl', 'looking', 'up', '.'], ['an', 'afican', 'american', 'woman', 'standing', 'behind', 'two', 'small', 'african', 'american', 'children', '.'], ['an', 'african', 'american', 'man', 'is', 'sitting', '.'], ['a', 'girl', 'in', 'black', 'hat', 'holding', 'an', 'african', 'american', 'baby', '.']] ,\n",
      " With respective similarities: \n",
      " [0.91704533577077552, 0.84985560038758123, 0.82171391395408944, 0.82070473846335068, 0.81911224910118519]\n",
      "\n",
      "\n",
      "Similarity score between \n",
      " ['1', 'man', 'singing', 'and', '1', 'man', 'playing', 'a', 'saxophone', 'in', 'a', 'concert', '.'] \n",
      " and  ['10', 'people', 'venture', 'out', 'to', 'go', 'crosscountry', 'skiing', '.'] \n",
      " is:  0.572625885972 \n",
      "\n",
      "\n",
      " BoV-idf Model:\n",
      "The  5  most similar sentences for  ['1', 'smiling', 'african', 'american', 'boy', '.']  are: \n",
      " [['an', 'african', 'american', 'man', 'smiling', '.'], ['an', 'african', 'american', 'man', 'is', 'sitting', '.'], ['a', 'little', 'african', 'american', 'boy', 'and', 'girl', 'looking', 'up', '.'], ['an', 'afican', 'american', 'woman', 'standing', 'behind', 'two', 'small', 'african', 'american', 'children', '.'], ['a', 'girl', 'in', 'black', 'hat', 'holding', 'an', 'african', 'american', 'baby', '.']] ,\n",
      " With respective similarities: \n",
      " [0.92152306157765251, 0.87105600629737734, 0.86491606454660208, 0.85467877390550606, 0.84615786511924873]\n",
      "\n",
      "\n",
      "Similarity score between \n",
      " ['1', 'man', 'singing', 'and', '1', 'man', 'playing', 'a', 'saxophone', 'in', 'a', 'concert', '.'] \n",
      " and  ['10', 'people', 'venture', 'out', 'to', 'go', 'crosscountry', 'skiing', '.'] \n",
      " is:  0.475145087537 \n",
      "\n"
     ]
    }
   ],
   "source": [
    "w2v = Word2vec(os.path.join(PATH_TO_DATA, 'crawl-300d-200k.vec'), nmax=200000)\n",
    "s2v = BoV(w2v)\n",
    "\n",
    "# Load sentences in \"PATH_TO_DATA/sentences.txt\"\n",
    "sentences = []\n",
    "with open(os.path.join(PATH_TO_DATA, 'sentences.txt')) as f:\n",
    "    for i, line in enumerate(f):\n",
    "        sent = line.rstrip().split()\n",
    "        sentences.append(sent)\n",
    "\n",
    "# Build idf scores for each word\n",
    "\n",
    "idf = {}  \n",
    "\n",
    "# You will be evaluated on the output of the following:\n",
    "print('\\n BoV-mean Model:')\n",
    "s2v.most_similar('' if not sentences else sentences[10], sentences)  # BoV-mean\n",
    "print('\\n')\n",
    "s2v.score('' if not sentences else sentences[7], '' if not sentences else sentences[13])\n",
    "\n",
    "\n",
    "idf = s2v.build_idf(sentences)\n",
    "print('\\n BoV-idf Model:')\n",
    "s2v.most_similar('' if not sentences else sentences[10], sentences, idf)  # BoV-idf\n",
    "print('\\n')\n",
    "s2v.score('' if not sentences else sentences[7], '' if not sentences else sentences[13], idf)"
   ]
  },
  {
   "cell_type": "markdown",
   "metadata": {},
   "source": [
    "# 2) Multilingual (English-French) word embeddings"
   ]
  },
  {
   "cell_type": "markdown",
   "metadata": {},
   "source": [
    "Let's consider a bilingual dictionary of size V_a (e.g French-English).\n",
    "\n",
    "Let's define **X** and **Y** the **French** and **English** matrices.\n",
    "\n",
    "They contain the embeddings associated to the words in the bilingual dictionary.\n",
    "\n",
    "We want to find a **mapping W** that will project the source word space (e.g French) to the target word space (e.g English).\n",
    "\n",
    "Procrustes : **W\\* = argmin || W.X - Y ||  s.t  W^T.W = Id**\n",
    "has a closed form solution:\n",
    "**W = U.V^T  where  U.Sig.V^T = SVD(Y.X^T)**\n",
    "\n",
    "In what follows, you are asked to: "
   ]
  },
  {
   "cell_type": "code",
   "execution_count": 35,
   "metadata": {},
   "outputs": [
    {
     "name": "stdout",
     "output_type": "stream",
     "text": [
      "dict_fr and dict_en created, with respective length  50000  and  50000\n"
     ]
    }
   ],
   "source": [
    "# 1 - Download and load 50k first vectors of\n",
    "data_en = \"https://s3-us-west-1.amazonaws.com/fasttext-vectors/wiki.en.vec\"\n",
    "data_fr = \"https://s3-us-west-1.amazonaws.com/fasttext-vectors/wiki.fr.vec\"\n",
    "\n",
    "# TYPE CODE HERE\n",
    "import urllib.request as url\n",
    "\n",
    "def load(path, limit = 50000):\n",
    "    dic = {}\n",
    "    with url.urlopen(path) as f:\n",
    "        next(f)\n",
    "        for i, line in enumerate(f):\n",
    "            word, vec = line.decode('utf-8').split(' ', 1)\n",
    "            dic[word] = np.fromstring(vec, sep=' ')\n",
    "            if i == (limit-1):\n",
    "                break\n",
    "    return dic\n",
    "\n",
    "dict_fr = load(data_fr)\n",
    "dict_en = load(data_en)\n",
    "\n",
    "\n",
    "print('dict_fr and dict_en created, with respective length ',len(dict_fr),' and ',len(dict_en))"
   ]
  },
  {
   "cell_type": "code",
   "execution_count": 36,
   "metadata": {},
   "outputs": [
    {
     "name": "stdout",
     "output_type": "stream",
     "text": [
      "2 matrices X and Y were generated: \n",
      "X.shape =  (18970, 300) \n",
      "Y.shape =  (18970, 300)\n"
     ]
    }
   ],
   "source": [
    "# 2 - Get words that appear in both vocabs (= identical character strings)\n",
    "#     Use it to create the matrix X and Y (of aligned embeddings for these words)\n",
    "\n",
    "def create_matrices(dict_1,dict_2):\n",
    "    list_X = []\n",
    "    list_Y = []\n",
    "    for w in dict_1:\n",
    "        if w in dict_2:\n",
    "            list_X.append(dict_1[w])\n",
    "            list_Y.append(dict_2[w])\n",
    "    X = np.vstack(list_X)\n",
    "    Y = np.vstack(list_Y)\n",
    "    return X,Y\n",
    "\n",
    "#Call the function to create matrices based en shared words\n",
    "X, Y = create_matrices(dict_fr,dict_en)\n",
    "\n",
    "print('2 matrices X and Y were generated: \\nX.shape = ',X.shape,'\\nY.shape = ',Y.shape)"
   ]
  },
  {
   "cell_type": "code",
   "execution_count": 37,
   "metadata": {},
   "outputs": [
    {
     "name": "stdout",
     "output_type": "stream",
     "text": [
      "Shape of Yt . X:  (300, 300)\n",
      "Singular value decomposition gives: SVD(Yt . X) = U . S . Vt\n",
      "Shape of U:  (300, 300) ,\n",
      "Shape of s:  (300,) ,\n",
      "Shape of Vh:  (300, 300)\n",
      "\n",
      "W is generated \n",
      "Shape of W = U.Vt :  (300, 300)\n"
     ]
    }
   ],
   "source": [
    "# 3 - Solve the Procrustes using the scipy package and: scipy.linalg.svd() and get the optimal W\n",
    "#     Now W*French_vector is in the same space as English_vector\n",
    "\n",
    "from scipy.linalg import svd\n",
    "#from scipy.linalg import orthogonal_procrustes\n",
    "\n",
    "Xt_Y = np.dot(X.T,Y)\n",
    "print('Shape of Yt . X: ',Xt_Y.shape) # N*N\n",
    "\n",
    "print('Singular value decomposition gives: SVD(Yt . X) = U . S . Vt')\n",
    "U, S, Vt = scipy.linalg.svd(Xt_Y)\n",
    "print('Shape of U: ',U.shape, ',\\nShape of s: ',S.shape, ',\\nShape of Vh: ',Vt.shape )\n",
    "\n",
    "W = np.dot(U,Vt)\n",
    "print('\\nW is generated \\nShape of W = U.Vt : ',W.shape)"
   ]
  },
  {
   "cell_type": "code",
   "execution_count": 38,
   "metadata": {},
   "outputs": [
    {
     "name": "stdout",
     "output_type": "stream",
     "text": [
      "French to English equivalents:\n",
      "\n",
      " Top-5 neighbors of \"mot\"\n",
      "['phrase', 'noun', 'meaning', 'words', 'adjective']\n",
      "\n",
      " Top-5 neighbors of \"voisin\"\n",
      "['neighbor', 'neighbouring', 'neighboring', 'neighbors', 'nearby']\n",
      "\n",
      " Top-5 neighbors of \"proche\"\n",
      "['closer', 'distant', 'close', 'distantly', 'nearer']\n",
      "\n",
      " English to French equivalents:\n",
      "\n",
      " Top-5 neighbors of \"word\"\n",
      "['substantif', 'signifiant', 'locution', 'mots', 'étymologiquement']\n",
      "\n",
      " Top-5 neighbors of \"neighbors\"\n",
      "['voisin', 'voisinage', 'peuplades', 'houses', 'our']\n",
      "\n",
      " Top-5 neighbors of \"nearest\"\n",
      "['distance', 'km', 'kilomètre', 'distant', 'desservie']\n"
     ]
    }
   ],
   "source": [
    "# 4 - After alignment with W, give examples of English nearest neighbors of some French words (and vice versa)\n",
    "#     You will be evaluated on that part and the code above\n",
    "\n",
    "#Function to compute cos similarity between two vectors, like in exercise 1\n",
    "\n",
    "def score(vect1, vect2):\n",
    "    dot_product = np.dot(vect1, vect2.T)\n",
    "    return dot_product / float(np.linalg.norm(vect1) * np.linalg.norm(vect2))\n",
    "\n",
    "\n",
    "#Function to find nearest neighbors [K is customisable]\n",
    "\n",
    "def find_neighbors(target_word, W, original_dict, target_dict, K=5):\n",
    "    target_vect = original_dict[target_word]\n",
    "    equiv_word = np.dot(target_vect,W)\n",
    "    scores = []\n",
    "    labels = list(target_dict.keys())\n",
    "    \n",
    "    for word in labels:\n",
    "        scores.append(score(equiv_word,target_dict[word]))\n",
    "    scores_array = np.array(scores)\n",
    "    idxs = scores_array.argsort()[::-1][1:K+1]\n",
    "\n",
    "    print('\\n Top-%s neighbors of \"%s\"' % (K, target_word))\n",
    "    similar_words = []\n",
    "    for idx in idxs:\n",
    "        similar_words.append(labels[idx])\n",
    "    return similar_words\n",
    "    \n",
    "print('French to English equivalents:')\n",
    "for w1 in ['mot', 'voisin', 'proche']:\n",
    "    print(find_neighbors(w1, W, dict_fr, dict_en, K=5))\n",
    "\n",
    "print('\\n English to French equivalents:')\n",
    "for w1 in ['word', 'neighbors', 'nearest']:\n",
    "    print(find_neighbors(w1, W.T, dict_en, dict_fr, K=5))"
   ]
  },
  {
   "cell_type": "markdown",
   "metadata": {},
   "source": [
    "If you want to dive deeper on this subject: https://github.com/facebookresearch/MUSE"
   ]
  },
  {
   "cell_type": "markdown",
   "metadata": {},
   "source": [
    "# 3) Sentence classification with BoV and scikit-learn"
   ]
  },
  {
   "cell_type": "code",
   "execution_count": 39,
   "metadata": {
    "collapsed": true
   },
   "outputs": [],
   "source": [
    "# 1 - Load train/dev/test of Stanford Sentiment TreeBank (SST)\n",
    "#     (https://nlp.stanford.edu/~socherr/EMNLP2013_RNTN.pdf)\n",
    "\n",
    "PATH_TO_SST = \"C:/Users/Chuyi/Documents/DSBA/T2/Deep_Learning/Mini_project_2/nlp_project/data/SST/\"\n",
    "\n",
    "\n",
    "#Load the sentences like in the 1st exercise\n",
    "def load(path, label_cut=False):\n",
    "    labels = []\n",
    "    sentences = []\n",
    "    with open(path, encoding=\"utf8\") as f:\n",
    "        for line in f:\n",
    "            \n",
    "            if label_cut == False:\n",
    "                label, line = line.split(' ', 1)\n",
    "                labels.append(label)\n",
    "                \n",
    "            sentences.append(line.split())\n",
    "    return labels, sentences\n",
    "\n",
    "#Load labeled data\n",
    "Y_train , X_train = load(os.path.join(PATH_TO_SST,'stsa.fine.train'), label_cut = False)\n",
    "Y_dev , X_dev = load(os.path.join(PATH_TO_SST,'stsa.fine.dev'), label_cut = False)\n",
    "\n",
    "#Load non-labeled data\n",
    "Y_test , X_test = load(os.path.join(PATH_TO_SST,'stsa.fine.test.X'), label_cut = True)\n"
   ]
  },
  {
   "cell_type": "code",
   "execution_count": 40,
   "metadata": {},
   "outputs": [],
   "source": [
    "# 2 - Encode sentences with the BoV model above\n",
    "# TYPE CODE HERE\n",
    "\n",
    "#First model doesn't need idf weights\n",
    "idf_3 = {}\n",
    "W_train = s2v.encode(X_train)\n",
    "W_dev = s2v.encode(X_dev)\n",
    "W_test = s2v.encode(X_test)\n",
    "\n",
    "#Generate idf weights for encoding function\n",
    "idf_3 = s2v.build_idf(X_train)\n",
    "W_train_idf = s2v.encode(X_train ,idf_3)\n",
    "W_dev_idf = s2v.encode(X_dev, idf_3)\n",
    "W_test_idf = s2v.encode(X_test, idf_3)"
   ]
  },
  {
   "cell_type": "code",
   "execution_count": 41,
   "metadata": {},
   "outputs": [
    {
     "name": "stdout",
     "output_type": "stream",
     "text": [
      "BoV-mean model \n",
      "CV (=5) results for Simple LogisticRegression \n",
      " [ 0.4126242   0.42548217  0.44236396  0.42706503  0.43434936]\n",
      "CV results mean =  0.42837694153\n",
      "\n",
      "CV results on dev sets =  0.439600363306 \n",
      "\n",
      "BoV-idf model \n",
      "CV (=5) results for Simple LogisticRegression \n",
      " [ 0.40677966  0.40210403  0.42480983  0.40890451  0.42555686]\n",
      "CV results mean =  0.413630978608\n",
      "\n",
      "CV results on dev sets =  0.41961852861 \n",
      "\n"
     ]
    }
   ],
   "source": [
    "# 3 - Learn Logistic Regression on top of sentence embeddings using scikit-learn\n",
    "#     (consider tuning the L2 regularization on the dev set)\n",
    "\n",
    "# TYPE CODE HERE\n",
    "logit = LogisticRegression(penalty = 'l2',C=5)\n",
    "\n",
    "#Generate Cross validation results on training set with BoV mean model\n",
    "CV_Scr_mean = cross_val_score(logit,W_train,Y_train,cv=5)\n",
    "\n",
    "print('BoV-mean model \\nCV (=5) results for Simple LogisticRegression \\n',CV_Scr_mean)\n",
    "print('CV results mean = ',np.mean(CV_Scr_mean))\n",
    "\n",
    "#Test with dev set with BoV mean model\n",
    "logit.fit(W_train,Y_train)\n",
    "\n",
    "print('\\nCV results on dev sets = ',logit.score(W_dev, Y_dev),'\\n')\n",
    "\n",
    "#Generate Cross validation results on training set with Bov idf model\n",
    "CV_Scr_idf = cross_val_score(logit,W_train_idf,Y_train,cv=5)\n",
    "\n",
    "print('BoV-idf model \\nCV (=5) results for Simple LogisticRegression \\n',CV_Scr_idf)\n",
    "print('CV results mean = ',np.mean(CV_Scr_idf))\n",
    "\n",
    "#Test with dev set with BoV idf model\n",
    "logit.fit(W_train_idf,Y_train)\n",
    "\n",
    "print('\\nCV results on dev sets = ',logit.score(W_dev_idf, Y_dev),'\\n')"
   ]
  },
  {
   "cell_type": "code",
   "execution_count": 42,
   "metadata": {},
   "outputs": [
    {
     "name": "stderr",
     "output_type": "stream",
     "text": [
      "C:\\ProgramData\\Anaconda3\\lib\\site-packages\\sklearn\\cross_validation.py:41: DeprecationWarning: This module was deprecated in version 0.18 in favor of the model_selection module into which all the refactored classes and functions are moved. Also note that the interface of the new CV iterators are different from that of this module. This module will be removed in 0.20.\n",
      "  \"This module will be removed in 0.20.\", DeprecationWarning)\n"
     ]
    },
    {
     "name": "stdout",
     "output_type": "stream",
     "text": [
      "Best score: 0.438436329588015\n",
      "Best parameters: {'C': 1}\n",
      "0.439600363306\n"
     ]
    }
   ],
   "source": [
    "from sklearn.model_selection import GridSearchCV\n",
    "from sklearn.cross_validation import StratifiedKFold\n",
    "\n",
    "# turn run_gs to True if you want to run the gridsearch again.\n",
    "run_gs = True\n",
    "\n",
    "if run_gs:\n",
    "    parameter_grid = {\n",
    "                 'C': [0.001, 0.01, 0.1, 1, 5, 10, 100, 1000]\n",
    "                 }\n",
    "    lr = LogisticRegression()\n",
    "    cross_validation = StratifiedKFold(Y_train, n_folds=5)\n",
    "\n",
    "    grid_search = GridSearchCV(lr,\n",
    "                               scoring='accuracy',\n",
    "                               param_grid=parameter_grid,\n",
    "                               cv=cross_validation)\n",
    "\n",
    "    grid_search.fit(W_train, Y_train)\n",
    "    lr_best_avg = grid_search\n",
    "    parameters = grid_search.best_params_\n",
    "\n",
    "    print('Best score: {}'.format(grid_search.best_score_))\n",
    "    print('Best parameters: {}'.format(grid_search.best_params_))\n",
    "else: \n",
    "    parameters = {'C': 1.0}\n",
    "    \n",
    "    lr_best_avg = LogisticRegression(**parameters)\n",
    "    lr_best_avg.fit(W_train, Y_train)\n",
    "    \n",
    "print(lr_best_avg.score(W_dev,Y_dev))"
   ]
  },
  {
   "cell_type": "code",
   "execution_count": 44,
   "metadata": {
    "collapsed": true
   },
   "outputs": [],
   "source": [
    "# 4 - Produce 2210 predictions for the test set (in the same order). One line = one prediction (=0,1,2,3,4).\n",
    "#     Attach the output file \"logreg_bov_y_test_sst.txt\" to your deliverable.\n",
    "#     You will be evaluated on the results of the test set.\n",
    "\n",
    "# TYPE CODE HERE\n",
    "\n",
    "Y_pred_test = logit.predict(W_test)\n",
    "\n",
    "text_file = open(\"logreg_bov_y_test_sst.txt\", \"w\")\n",
    "text_file.write('\\n'.join(Y_pred_test))\n",
    "text_file.close()"
   ]
  },
  {
   "cell_type": "code",
   "execution_count": 46,
   "metadata": {},
   "outputs": [
    {
     "name": "stdout",
     "output_type": "stream",
     "text": [
      "BoV-mean model \n",
      "CV results for SVM [ 0.39158387  0.38281707  0.37097718  0.40187463  0.38335287]\n",
      "CV mean =  0.386121124168 \n",
      "\n",
      "CV results on dev sets = 0.405994550409 \n",
      "\n",
      "BoV-idf model \n",
      "CV results for SVM [ 0.37463472  0.38924605  0.36863663  0.39660223  0.34583822]\n",
      "CV mean =  0.374991569054 \n",
      "\n",
      "CV results on dev sets = 0.3851044505 \n",
      "\n"
     ]
    }
   ],
   "source": [
    "# BONUS!\n",
    "# 5 - Try to improve performance with another classifier\n",
    "#     Attach the output file \"XXX_bov_y_test_sst.txt\" to your deliverable (where XXX = the name of the classifier)\n",
    "\n",
    "# TYPE CODE HERE\n",
    "\n",
    "# Support Vector Machines\n",
    "\n",
    "from sklearn.ensemble import RandomForestClassifier\n",
    "from sklearn.naive_bayes import GaussianNB\n",
    "\n",
    "clf = GaussianNB()\n",
    "\n",
    "# Dev test \n",
    "\n",
    "CV_score = cross_val_score(clf,W_train,Y_train,cv=5)\n",
    "print('BoV-mean model \\nCV results for SVM',CV_score)\n",
    "print('CV mean = ', np.mean(CV_score),'\\n')\n",
    "clf.fit(W_train,Y_train)\n",
    "print('CV results on dev sets =',clf.score(W_dev, Y_dev),'\\n')\n",
    "\n",
    "CV_score_idf = cross_val_score(clf,W_train_idf,Y_train,cv=5)\n",
    "print('BoV-idf model \\nCV results for SVM',CV_score_idf)\n",
    "print('CV mean = ', np.mean(CV_score_idf),'\\n')\n",
    "clf.fit(W_train_idf,Y_train)\n",
    "print('CV results on dev sets =',clf.score(W_dev_idf, Y_dev),'\\n')\n",
    "\n"
   ]
  },
  {
   "cell_type": "code",
   "execution_count": 47,
   "metadata": {
    "collapsed": true
   },
   "outputs": [],
   "source": [
    "output_file = open(\"XXX_bov_y_test_sst.txt.txt\",'w')\n",
    "output_file.write('\\n'.join(Y_pred))\n",
    "output_file.close()"
   ]
  },
  {
   "cell_type": "markdown",
   "metadata": {},
   "source": [
    "# 4) Sentence classification with LSTMs in Keras"
   ]
  },
  {
   "cell_type": "markdown",
   "metadata": {},
   "source": [
    "## 4.1 - Preprocessing"
   ]
  },
  {
   "cell_type": "code",
   "execution_count": 65,
   "metadata": {},
   "outputs": [],
   "source": [
    "import keras"
   ]
  },
  {
   "cell_type": "code",
   "execution_count": 72,
   "metadata": {},
   "outputs": [],
   "source": [
    "# 1 - Load train/dev/test sets of SST\n",
    "\n",
    "PATH_TO_SST = \"C:/Users/Chuyi/Documents/DSBA/T2/Deep_Learning/Mini_project_2/nlp_project/data/SST/\"\n",
    "\n",
    "#Load the sentences like in the 1st exercise\n",
    "def load_texts(path, label_cut=False):\n",
    "    labels = []\n",
    "    sentences = []\n",
    "    with open(path, encoding=\"utf8\") as f:\n",
    "        for line in f:\n",
    "            if label_cut == False:\n",
    "                label, line = line.split(' ', 1)\n",
    "                labels.append(label)\n",
    "            sentences.append(line.split())\n",
    "    return labels, sentences\n",
    "\n",
    "#Load labeled data\n",
    "Y_train , X_train = load_texts(os.path.join(PATH_TO_SST,'stsa.fine.train'), label_cut = False)\n",
    "Y_dev , X_dev = load_texts(os.path.join(PATH_TO_SST,'stsa.fine.dev'), label_cut = False)\n",
    "\n",
    "#Load non-labeled data\n",
    "Y_test , X_test = load_texts(os.path.join(PATH_TO_SST,'stsa.fine.test.X'), label_cut = True)\n",
    "\n",
    "\n",
    "from keras.utils import to_categorical\n",
    "Y_train = to_categorical(Y_train,5)\n",
    "Y_dev = to_categorical(Y_dev,5)\n"
   ]
  },
  {
   "cell_type": "code",
   "execution_count": 74,
   "metadata": {
    "collapsed": true
   },
   "outputs": [],
   "source": [
    "# 2 - Transform text to integers using keras.preprocessing.text.one_hot function\n",
    "#     https://keras.io/preprocessing/text/\n",
    "\n",
    "#from keras.preprocessing.text import text_to_word_sequence\n",
    "from keras.preprocessing.text import one_hot\n",
    "\n",
    "def text_to_integers(text, size):\n",
    "    output=[]\n",
    "    for sent in text:\n",
    "        sent = str(sent)\n",
    "        new = keras.preprocessing.text.one_hot(sent, \n",
    "                                    size,\n",
    "                                     filters='!\"#$%&()*+,-./:;<=>?@[\\\\]^_`{|}~\\t\\n',\n",
    "                                     lower=True,\n",
    "                                     split=\" \")\n",
    "        output.append(new)\n",
    "    return output\n",
    "\n",
    "size_voc = 16000\n",
    "X_train_processed = text_to_integers(X_train, size_voc)\n",
    "X_dev_processed = text_to_integers(X_dev, size_voc)\n",
    "X_test_processed = text_to_integers(X_test, size_voc)\n"
   ]
  },
  {
   "cell_type": "markdown",
   "metadata": {},
   "source": [
    "**Padding input data**\n",
    "\n",
    "Models in Keras (and elsewhere) take batches of sentences of the same length as input. It is because Deep Learning framework have been designed to handle well Tensors, which are particularly suited for fast computation on the GPU.\n",
    "\n",
    "Since sentences have different sizes, we \"pad\" them. That is, we add dummy \"padding\" tokens so that they all have the same length.\n",
    "\n",
    "The input to a Keras model thus has this size : (batchsize, maxseqlen) where maxseqlen is the maximum length of a sentence in the batch."
   ]
  },
  {
   "cell_type": "code",
   "execution_count": 75,
   "metadata": {},
   "outputs": [
    {
     "name": "stdout",
     "output_type": "stream",
     "text": [
      "67\n"
     ]
    }
   ],
   "source": [
    "# 3 - Pad your sequences using keras.preprocessing.sequence.pad_sequences\n",
    "#     https://keras.io/preprocessing/sequence/\n",
    "\n",
    "# TYPE CODE HERE\n",
    "\n",
    "from keras.preprocessing.sequence import pad_sequences\n",
    "\n",
    "X_train_4 = pad_sequences(X_train_processed)\n",
    "X_dev_4 = pad_sequences(X_dev_processed)\n",
    "X_test_4 =pad_sequences(X_test_processed)\n",
    "\n",
    "print(len(X_train_4[0]))"
   ]
  },
  {
   "cell_type": "markdown",
   "metadata": {},
   "source": [
    "## 4.2 - Design and train your model"
   ]
  },
  {
   "cell_type": "code",
   "execution_count": 76,
   "metadata": {},
   "outputs": [
    {
     "name": "stderr",
     "output_type": "stream",
     "text": [
      "C:\\ProgramData\\Anaconda3\\lib\\site-packages\\ipykernel_launcher.py:20: UserWarning: Update your `LSTM` call to the Keras 2 API: `LSTM(64, dropout=0.2, recurrent_dropout=0.2)`\n"
     ]
    }
   ],
   "source": [
    "# 4 - Design your encoder + classifier using keras.layers\n",
    "#     In Keras, Torch and other deep learning framework, we create a \"container\" which is the Sequential() module.\n",
    "#     Then we add components to this contained : the lookuptable, the LSTM, the classifier etc.\n",
    "#     All of these components are contained in the Sequential() and are trained together.\n",
    "\n",
    "\n",
    "# ADAPT CODE BELOW\n",
    "\n",
    "\n",
    "from keras.models import Sequential\n",
    "from keras.layers import Embedding, LSTM, Dense, Activation\n",
    "\n",
    "embed_dim  = 2000  # word embedding dimension\n",
    "nhid       = 64  # number of hidden units in the LSTM\n",
    "vocab_size = size_voc  # size of the vocabulary\n",
    "n_classes  = 5\n",
    "\n",
    "model = Sequential()\n",
    "model.add(Embedding(vocab_size, embed_dim))\n",
    "model.add(LSTM(nhid, dropout_W=0.2, dropout_U=0.2))\n",
    "model.add(Dense(n_classes, activation='softmax'))\n"
   ]
  },
  {
   "cell_type": "code",
   "execution_count": 77,
   "metadata": {},
   "outputs": [
    {
     "name": "stdout",
     "output_type": "stream",
     "text": [
      "_________________________________________________________________\n",
      "Layer (type)                 Output Shape              Param #   \n",
      "=================================================================\n",
      "embedding_10 (Embedding)     (None, None, 2000)        32000000  \n",
      "_________________________________________________________________\n",
      "lstm_10 (LSTM)               (None, 64)                528640    \n",
      "_________________________________________________________________\n",
      "dense_10 (Dense)             (None, 5)                 325       \n",
      "=================================================================\n",
      "Total params: 32,528,965\n",
      "Trainable params: 32,528,965\n",
      "Non-trainable params: 0\n",
      "_________________________________________________________________\n",
      "None\n"
     ]
    }
   ],
   "source": [
    "# 5 - Define your loss/optimizer/metrics\n",
    "\n",
    "# MODIFY CODE BELOW\n",
    "\n",
    "loss_classif     =  'categorical_crossentropy' # find the right loss for multi-class classification\n",
    "optimizer        =  'rmsprop' # find the right optimizer\n",
    "metrics_classif  =  ['accuracy']\n",
    "\n",
    "# Observe how easy (but blackboxed) this is in Keras\n",
    "model.compile(loss=loss_classif,\n",
    "              optimizer=optimizer,\n",
    "              metrics=metrics_classif)\n",
    "print(model.summary())"
   ]
  },
  {
   "cell_type": "code",
   "execution_count": 78,
   "metadata": {},
   "outputs": [
    {
     "name": "stderr",
     "output_type": "stream",
     "text": [
      "C:\\ProgramData\\Anaconda3\\lib\\site-packages\\keras\\models.py:944: UserWarning: The `nb_epoch` argument in `fit` has been renamed `epochs`.\n",
      "  warnings.warn('The `nb_epoch` argument in `fit` '\n"
     ]
    },
    {
     "name": "stdout",
     "output_type": "stream",
     "text": [
      "Train on 8544 samples, validate on 1101 samples\n",
      "Epoch 1/4\n",
      "8544/8544 [==============================] - 166s 19ms/step - loss: 1.4999 - acc: 0.3270 - val_loss: 1.4096 - val_acc: 0.3869\n",
      "Epoch 2/4\n",
      "8544/8544 [==============================] - 167s 20ms/step - loss: 1.2058 - acc: 0.4912 - val_loss: 1.4166 - val_acc: 0.4033\n",
      "Epoch 3/4\n",
      "8544/8544 [==============================] - 169s 20ms/step - loss: 0.9101 - acc: 0.6440 - val_loss: 1.5879 - val_acc: 0.3706\n",
      "Epoch 4/4\n",
      "8544/8544 [==============================] - 170s 20ms/step - loss: 0.6583 - acc: 0.7512 - val_loss: 1.8391 - val_acc: 0.3860\n"
     ]
    }
   ],
   "source": [
    "# 6 - Train your model and find the best hyperparameters for your dev set\n",
    "#     you will be evaluated on the quality of your predictions on the test set\n",
    "\n",
    "# ADAPT CODE BELOW\n",
    "bs = 64\n",
    "n_epochs = 4\n",
    "\n",
    "LSTM = model.fit(X_train_4, Y_train, batch_size=bs, nb_epoch=n_epochs, validation_data=(X_dev_4, Y_dev))"
   ]
  },
  {
   "cell_type": "code",
   "execution_count": 79,
   "metadata": {},
   "outputs": [
    {
     "data": {
      "image/png": "[encoded data removed]",
      "text/plain": [
       "<matplotlib.figure.Figure at 0x221db3581d0>"
      ]
     },
     "metadata": {},
     "output_type": "display_data"
    },
    {
     "data": {
      "image/png": "[encoded data removed]",
      "text/plain": [
       "<matplotlib.figure.Figure at 0x221db36ca90>"
      ]
     },
     "metadata": {},
     "output_type": "display_data"
    }
   ],
   "source": [
    "#Plot the evolution of train/dev results w.r.t the number of epochs\n",
    "from matplotlib import pyplot as plt\n",
    "\n",
    "\n",
    "plt.title(\"Accuracy\")\n",
    "plt.plot(LSTM.history[\"acc\"], color=\"g\", label=\"Train\")\n",
    "plt.plot(LSTM.history[\"val_acc\"], color=\"y\", label=\"Dev\")\n",
    "plt.legend(loc=\"best\")\n",
    "plt.show()\n",
    "\n",
    "plt.title(\"Loss\")\n",
    "plt.plot(LSTM.history[\"loss\"], color=\"g\", label=\"Train\")\n",
    "plt.plot(LSTM.history[\"val_loss\"], color=\"y\", label=\"Dev\")\n",
    "plt.legend(loc=\"best\")\n",
    "plt.show()"
   ]
  },
  {
   "cell_type": "code",
   "execution_count": 81,
   "metadata": {
    "collapsed": true
   },
   "outputs": [],
   "source": [
    "# 7 - Generate your predictions on the test set using model.predict(x_test)\n",
    "#     https://keras.io/models/model/\n",
    "#     Log your predictions in a file (one line = one integer: 0,1,2,3,4)\n",
    "#     Attach the output file \"logreg_lstm_y_test_sst.txt\" to your deliverable.\n",
    "\n",
    "Y_test_pred = model.predict(X_test_4)\n",
    "Y_pred = []\n",
    "\n",
    "\n",
    "for i in range(Y_test_pred.shape[0]):\n",
    "    index_max = list(Y_test_pred[i]).index(max(Y_test_pred[i]))\n",
    "    Y_pred.append(str(index_max))\n",
    "Y_pred = np.asarray(Y_pred)\n",
    "\n",
    "#create file with predictions\n",
    "output_file = open(\"logreg_lstm_y_test_sst.txt.txt\",'w')\n",
    "output_file.write('\\n'.join(Y_pred))\n",
    "output_file.close()\n",
    "\n",
    "#print(Y_test_pred[2])"
   ]
  },
  {
   "cell_type": "markdown",
   "metadata": {},
   "source": [
    "## 4.3 -- innovate !"
   ]
  },
  {
   "cell_type": "code",
   "execution_count": 26,
   "metadata": {},
   "outputs": [
    {
     "name": "stderr",
     "output_type": "stream",
     "text": [
      "C:\\ProgramData\\Anaconda3\\lib\\site-packages\\ipykernel_launcher.py:20: UserWarning: Update your `LSTM` call to the Keras 2 API: `LSTM(64, dropout=0.2, recurrent_dropout=0.2)`\n"
     ]
    },
    {
     "name": "stdout",
     "output_type": "stream",
     "text": [
      "_________________________________________________________________\n",
      "Layer (type)                 Output Shape              Param #   \n",
      "=================================================================\n",
      "embedding_4 (Embedding)      (None, None, 2000)        4000000   \n",
      "_________________________________________________________________\n",
      "lstm_4 (LSTM)                (None, 64)                528640    \n",
      "_________________________________________________________________\n",
      "dense_4 (Dense)              (None, 5)                 325       \n",
      "=================================================================\n",
      "Total params: 4,528,965\n",
      "Trainable params: 4,528,965\n",
      "Non-trainable params: 0\n",
      "_________________________________________________________________\n",
      "None\n"
     ]
    },
    {
     "name": "stderr",
     "output_type": "stream",
     "text": [
      "C:\\ProgramData\\Anaconda3\\lib\\site-packages\\keras\\models.py:944: UserWarning: The `nb_epoch` argument in `fit` has been renamed `epochs`.\n",
      "  warnings.warn('The `nb_epoch` argument in `fit` '\n"
     ]
    },
    {
     "name": "stdout",
     "output_type": "stream",
     "text": [
      "Train on 8544 samples, validate on 1101 samples\n",
      "Epoch 1/4\n",
      "8544/8544 [==============================] - 137s 16ms/step - loss: 1.5306 - acc: 0.3141 - val_loss: 1.4655 - val_acc: 0.3524\n",
      "Epoch 2/4\n",
      "8544/8544 [==============================] - 122s 14ms/step - loss: 1.3283 - acc: 0.4341 - val_loss: 1.4871 - val_acc: 0.3488\n",
      "Epoch 3/4\n",
      "8544/8544 [==============================] - 120s 14ms/step - loss: 1.1556 - acc: 0.5302 - val_loss: 1.5657 - val_acc: 0.3433\n",
      "Epoch 4/4\n",
      "8544/8544 [==============================] - 120s 14ms/step - loss: 0.9859 - acc: 0.6040 - val_loss: 1.7428 - val_acc: 0.3261\n"
     ]
    }
   ],
   "source": [
    "# 8 - Open question: find a model that is better on your dev set\n",
    "#     (e.g: use a 1D ConvNet, use a better classifier, pretrain your lookup tables ..)\n",
    "#     you will get point if the results on the test set are better: be careful of not overfitting your dev set too much..\n",
    "#     Attach the output file \"XXX_XXX_y_test_sst.txt\" to your deliverable.\n",
    "\n",
    "# TYPE CODE HERE\n",
    "\n",
    "from keras.models import Sequential\n",
    "from keras.layers import Embedding, LSTM, Dense, Activation\n",
    "\n",
    "embed_dim  = 2000  # word embedding dimension\n",
    "nhid       = 64  # number of hidden units in the LSTM\n",
    "vocab_size = size_voc  # size of the vocabulary\n",
    "n_classes  = 5\n",
    "\n",
    "model2 = Sequential()\n",
    "\n",
    "model2.add(Embedding(vocab_size, embed_dim))\n",
    "\n",
    "model2.add(LSTM(nhid, dropout_W=0.2, dropout_U=0.2))\n",
    "\n",
    "model2.add(Dense(n_classes, activation='softmax'))\n",
    "\n",
    "\n",
    "loss_classif     =  'categorical_crossentropy' # find the right loss for multi-class classification\n",
    "optimizer        =  'Adam' # find the right optimizer\n",
    "metrics_classif  =  ['accuracy']\n",
    "\n",
    "# Observe how easy (but blackboxed) this is in Keras\n",
    "model2.compile(loss=loss_classif,\n",
    "              optimizer=optimizer,\n",
    "              metrics=metrics_classif)\n",
    "print(model2.summary())\n",
    "\n",
    "bs = 64\n",
    "n_epochs = 4\n",
    "\n",
    "LSTM = model2.fit(X_train_4, Y_train, batch_size=bs, nb_epoch=n_epochs, validation_data=(X_dev_4, Y_dev))"
   ]
  },
  {
   "cell_type": "code",
   "execution_count": 27,
   "metadata": {
    "collapsed": true
   },
   "outputs": [],
   "source": [
    "output_file = open(\"XXX_XXX_y_test_sst.txt.txt\",'w')\n",
    "output_file.write('\\n'.join(Y_pred))\n",
    "output_file.close()"
   ]
  }
 ],
 "metadata": {
  "kernelspec": {
   "display_name": "Python 3",
   "language": "python",
   "name": "python3"
  },
  "language_info": {
   "codemirror_mode": {
    "name": "ipython",
    "version": 3
   },
   "file_extension": ".py",
   "mimetype": "text/x-python",
   "name": "python",
   "nbconvert_exporter": "python",
   "pygments_lexer": "ipython3",
   "version": "3.6.3"
  }
 },
 "nbformat": 4,
 "nbformat_minor": 1
}
